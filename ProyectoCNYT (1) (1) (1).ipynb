{
 "cells": [
  {
   "cell_type": "markdown",
   "metadata": {},
   "source": [
    "# EJERCICIOS DEL LIBRO"
   ]
  },
  {
   "cell_type": "markdown",
   "metadata": {},
   "source": [
    "De acuerdo al libro Quantum Computing For Computer Scientists. Se realizaran los ejercicios de programación del capitulo 1 con el lenguaje python."
   ]
  },
  {
   "cell_type": "code",
   "execution_count": 1,
   "metadata": {},
   "outputs": [],
   "source": [
    "import matplotlib.pyplot as plt\n",
    "import math\n",
    "import numpy as np"
   ]
  },
  {
   "cell_type": "markdown",
   "metadata": {},
   "source": [
    "## CAPITULO 1"
   ]
  },
  {
   "cell_type": "markdown",
   "metadata": {},
   "source": [
    "### IMPRIMIR COMPLEJOS"
   ]
  },
  {
   "cell_type": "code",
   "execution_count": 2,
   "metadata": {},
   "outputs": [],
   "source": [
    "def imprimir(Cm1):\n",
    "    Cm1 = Cm1[:]\n",
    "    \n",
    "    if Cm1[0]==0:\n",
    "        print(\"Numero complejo :\",str(Cm1[1])+\"i\")\n",
    "    elif Cm1[1]==0:\n",
    "        print(\"Numero complejo :\",Cm1[0])\n",
    "    elif Cm1[1]<0:\n",
    "        print(\"Numero complejo :\",Cm1[0],str(Cm1[1])+\"i\")\n",
    "    else:\n",
    "        print(\"Numero complejo :\",Cm1[0],\"+\"+str(Cm1[1])+\"i\")\n",
    "    \n",
    "    "
   ]
  },
  {
   "cell_type": "markdown",
   "metadata": {},
   "source": [
    "### 1.1 SUMA DE COMPLEJOS"
   ]
  },
  {
   "cell_type": "markdown",
   "metadata": {},
   "source": [
    "Programa que sume dos numeros complejos."
   ]
  },
  {
   "cell_type": "code",
   "execution_count": 3,
   "metadata": {},
   "outputs": [],
   "source": [
    "def suma_C(C1,C2):\n",
    "    C1 = C1[:]\n",
    "    C2 = C2[:]\n",
    "    sum_com = ((C1[0]+C2[0]),(C1[1]+C2[1]))\n",
    "   \n",
    "     #Si alguna otra función necesita multiplicar dos numeros se devuelve el resultado\n",
    "    return sum_com"
   ]
  },
  {
   "cell_type": "code",
   "execution_count": 4,
   "metadata": {},
   "outputs": [
    {
     "data": {
      "text/plain": [
       "(3, 7)"
      ]
     },
     "execution_count": 4,
     "metadata": {},
     "output_type": "execute_result"
    }
   ],
   "source": [
    "suma_C((3,5),(0,2))"
   ]
  },
  {
   "cell_type": "markdown",
   "metadata": {},
   "source": [
    "#### PRUEBA\n",
    "Se realizo las siguientes pruebas con dos numero complejos\n",
    "\n",
    "Numero 1: $$ 3 +5i $$\n",
    "Numero 2: $$ 2i $$\n",
    "Y se obtuvo como resultado el siguiente numero\n",
    "$$ 3 +7i $$"
   ]
  },
  {
   "cell_type": "markdown",
   "metadata": {},
   "source": [
    "### 1.2 RESTA DE COMPLEJOS"
   ]
  },
  {
   "cell_type": "code",
   "execution_count": 5,
   "metadata": {},
   "outputs": [],
   "source": [
    "def resta_C(C1,C2):\n",
    "    C1 = C1[:]\n",
    "    C2 = C2[:]\n",
    "    resta = ((C1[0]-C2[0]),(C1[1]-C2[1]))\n",
    "    \n",
    "    \n",
    "     #Si alguna otra función necesita multiplicar dos numeros se devuelve el resultado\n",
    "    return resta"
   ]
  },
  {
   "cell_type": "code",
   "execution_count": 6,
   "metadata": {},
   "outputs": [
    {
     "data": {
      "text/plain": [
       "(3, 3)"
      ]
     },
     "execution_count": 6,
     "metadata": {},
     "output_type": "execute_result"
    }
   ],
   "source": [
    "resta_C((3,5),(0,2))"
   ]
  },
  {
   "cell_type": "markdown",
   "metadata": {},
   "source": [
    "#### PRUEBA\n",
    "Se realizo las siguientes pruebas con dos numero complejos\n",
    "\n",
    "Numero 1: $$ 3 +5i $$\n",
    "Numero 2: $$ 2i $$\n",
    "Y se obtuvo como resultado el siguiente numero\n",
    "$$ 3 +3i $$"
   ]
  },
  {
   "cell_type": "markdown",
   "metadata": {},
   "source": [
    "### 1.3 MULTIPLICACION DE COMPLEJOS"
   ]
  },
  {
   "cell_type": "markdown",
   "metadata": {},
   "source": [
    "Programa que multiplique dos numeros complejos"
   ]
  },
  {
   "cell_type": "code",
   "execution_count": 7,
   "metadata": {},
   "outputs": [],
   "source": [
    "def Mul_C(C1,C2):\n",
    "    C1 = C1[:]\n",
    "    C2 = C2[:]\n",
    "    Real = (C1[0]*C2[0])-(C1[1]*C2[1])\n",
    "    imag = (C1[0]*C2[1])+(C2[0]*C1[1])\n",
    "    Resul = (Real,imag)\n",
    "   \n",
    "    \n",
    "    \n",
    "    #Si alguna otra función necesita multiplicar dos numeros se devuelve el resultado\n",
    "    return Resul"
   ]
  },
  {
   "cell_type": "code",
   "execution_count": 8,
   "metadata": {},
   "outputs": [
    {
     "data": {
      "text/plain": [
       "(-1, -3)"
      ]
     },
     "execution_count": 8,
     "metadata": {},
     "output_type": "execute_result"
    }
   ],
   "source": [
    "Mul_C((-1,0),(1,3))"
   ]
  },
  {
   "cell_type": "markdown",
   "metadata": {},
   "source": [
    "#### PRUEBA\n",
    "Se realizo las siguientes pruebas con dos numero complejos\n",
    "\n",
    "Numero 1: $$ -1 $$\n",
    "Numero 2: $$ 1 +3i $$\n",
    "Y se obtuvo como resultado el siguiente numero\n",
    "$$ -1 -3i $$"
   ]
  },
  {
   "cell_type": "markdown",
   "metadata": {},
   "source": [
    "### 1.4 CONJUGADO DE UN NUMERO COMPLEJO"
   ]
  },
  {
   "cell_type": "markdown",
   "metadata": {},
   "source": [
    "Programa que conjugue un numero complejo"
   ]
  },
  {
   "cell_type": "code",
   "execution_count": 9,
   "metadata": {},
   "outputs": [],
   "source": [
    "def Conju_C(C1):\n",
    "    C1 = C1[:]\n",
    "    #Conjugado\n",
    "    Resul = (C1[0],-C1[1])\n",
    "    \n",
    "        \n",
    "    return Resul"
   ]
  },
  {
   "cell_type": "code",
   "execution_count": 10,
   "metadata": {},
   "outputs": [
    {
     "data": {
      "text/plain": [
       "(-5, -4)"
      ]
     },
     "execution_count": 10,
     "metadata": {},
     "output_type": "execute_result"
    }
   ],
   "source": [
    "Conju_C((-5,4))"
   ]
  },
  {
   "cell_type": "markdown",
   "metadata": {},
   "source": [
    "#### PRUEBA\n",
    "Se realizo las siguientes pruebas con un numero complejos\n",
    "\n",
    "Numero : $$ -5 +4i $$\n",
    "Y se obtuvo como resultado el siguiente numero\n",
    "$$ -5 -4i $$"
   ]
  },
  {
   "cell_type": "markdown",
   "metadata": {},
   "source": [
    "### 1.5 MODULO NUMERO COMPLEJO"
   ]
  },
  {
   "cell_type": "markdown",
   "metadata": {},
   "source": [
    "Programa que muestre el modulo de un numero comlejo"
   ]
  },
  {
   "cell_type": "code",
   "execution_count": 11,
   "metadata": {},
   "outputs": [],
   "source": [
    "def Modu_C(C1):\n",
    "    C1 = C1[:]\n",
    "    Resul = (math.sqrt(C1[0]**2 + C1[1]**2),0)\n",
    "    \n",
    "    \n",
    "    return Resul"
   ]
  },
  {
   "cell_type": "code",
   "execution_count": 12,
   "metadata": {},
   "outputs": [
    {
     "data": {
      "text/plain": [
       "(6.4031242374328485, 0)"
      ]
     },
     "execution_count": 12,
     "metadata": {},
     "output_type": "execute_result"
    }
   ],
   "source": [
    "Modu_C([-5, 4])"
   ]
  },
  {
   "cell_type": "markdown",
   "metadata": {},
   "source": [
    "#### PRUEBA\n",
    "Se realizo las siguientes pruebas con un numero complejos\n",
    "\n",
    "Numero : $$ -5 +4i$$\n",
    "Y se obtuvo como resultado el siguiente numero\n",
    "$$ 6.4031242374328485 $$"
   ]
  },
  {
   "cell_type": "markdown",
   "metadata": {},
   "source": [
    "### 1.6 DIVISIÓN NÚMEROS COMPLEJOS"
   ]
  },
  {
   "cell_type": "markdown",
   "metadata": {},
   "source": [
    "Programa que Divida dos numeros complejos"
   ]
  },
  {
   "cell_type": "code",
   "execution_count": 13,
   "metadata": {},
   "outputs": [],
   "source": [
    "def Div_C(C1, C2):\n",
    "    \n",
    "    if not(C2[0]==0 and C2[1]==0):\n",
    "        Conjugado = Conju_C(C2)\n",
    "        Numerador = Mul_C(C1, Conjugado)\n",
    "        Denominador = Mul_C(C2, Conjugado)\n",
    "        Resul = (Numerador,Denominador)\n",
    "        \n",
    "        return Resul\n",
    "    else:\n",
    "        return False"
   ]
  },
  {
   "cell_type": "code",
   "execution_count": 14,
   "metadata": {},
   "outputs": [
    {
     "data": {
      "text/plain": [
       "((7, 19), (10, 0))"
      ]
     },
     "execution_count": 14,
     "metadata": {},
     "output_type": "execute_result"
    }
   ],
   "source": [
    "Div_C((-5,4),(1,3))"
   ]
  },
  {
   "cell_type": "markdown",
   "metadata": {},
   "source": [
    "#### PRUEBA\n",
    "Se realizo las siguientes pruebas con dos numero complejos\n",
    "\n",
    "$$ -5 +4i  /  2i  $$\n",
    "Y se obtuvo como resultado el siguiente numero\n",
    "$$ 7 +19i  /  10 $$"
   ]
  },
  {
   "cell_type": "markdown",
   "metadata": {},
   "source": [
    "### 1.7 FORMA RECTAGULAR A POLAR"
   ]
  },
  {
   "cell_type": "markdown",
   "metadata": {},
   "source": [
    "Programa que muestre la forma polar de un numero rectangular dado"
   ]
  },
  {
   "cell_type": "code",
   "execution_count": 15,
   "metadata": {},
   "outputs": [],
   "source": [
    "def Rec_Polar(C1):\n",
    "    p = Modu_C(C1)\n",
    "    Teta = math.atan2(C1[1],C1[0])\n",
    "    Resul = [p, Teta]\n",
    "    \n",
    "        \n",
    "    print(\"Forma polar: (\",Resul[0],\",\",Resul[1],\")\" )"
   ]
  },
  {
   "cell_type": "code",
   "execution_count": 16,
   "metadata": {},
   "outputs": [
    {
     "name": "stdout",
     "output_type": "stream",
     "text": [
      "Forma polar: ( (2.23606797749979, 0) , -2.677945044588987 )\n"
     ]
    }
   ],
   "source": [
    "Rec_Polar([-2, -1])"
   ]
  },
  {
   "cell_type": "markdown",
   "metadata": {},
   "source": [
    "#### PRUEBA\n",
    "Se realizo las siguientes pruebas con dos numero complejos\n",
    "\n",
    "$$ -2 -1i  $$\n",
    "Y se obtuvo como resultado el siguiente numero\n",
    "$$ ( 2.23606797749979 , -2.677945044588987 ) $$"
   ]
  },
  {
   "cell_type": "markdown",
   "metadata": {},
   "source": [
    "### 1.8 FORMA POLAR A RECTANGULAR"
   ]
  },
  {
   "cell_type": "markdown",
   "metadata": {},
   "source": [
    "Programa que muestre la forma rectangular de un numero con forma polar dado"
   ]
  },
  {
   "cell_type": "code",
   "execution_count": 17,
   "metadata": {},
   "outputs": [],
   "source": [
    "def Polar_Rec(C1):\n",
    "    print(\"----------FORMA RECTANGULAR A POLAR-------\")\n",
    "    a = C1[0] * math.cos(C1[1])\n",
    "    b = C1[0] * math.sin(C1[1])\n",
    "    \n",
    "    return (a,b)"
   ]
  },
  {
   "cell_type": "code",
   "execution_count": 18,
   "metadata": {},
   "outputs": [
    {
     "name": "stdout",
     "output_type": "stream",
     "text": [
      "----------FORMA RECTANGULAR A POLAR-------\n"
     ]
    },
    {
     "data": {
      "text/plain": [
       "(5.0055023857573895, 1.9992613301359765)"
      ]
     },
     "execution_count": 18,
     "metadata": {},
     "output_type": "execute_result"
    }
   ],
   "source": [
    "Polar_Rec([5.39, 0.38])"
   ]
  },
  {
   "cell_type": "markdown",
   "metadata": {},
   "source": [
    "#### PRUEBA\n",
    "Se realizo las siguientes pruebas con dos numero complejos\n",
    "\n",
    "$$ p =  5.39 $$\n",
    "$$ Teta =  0.38  $$\n",
    "Y se obtuvo como resultado el siguiente numero\n",
    "$$ ( 5.0055023857573895 , 1.9992613301359765 ) $$"
   ]
  },
  {
   "cell_type": "markdown",
   "metadata": {},
   "source": [
    "## CAPITULO 2"
   ]
  },
  {
   "cell_type": "markdown",
   "metadata": {},
   "source": [
    "### 0. IMPRIMIR VECTORES COMPLEJOS"
   ]
  },
  {
   "cell_type": "code",
   "execution_count": 19,
   "metadata": {},
   "outputs": [],
   "source": [
    "def imprimir_vec(V1, tam):\n",
    "    print(\"Vector complejo:\")\n",
    "    for j in range(tam):\n",
    "        if V1[j][0]==0:\n",
    "            print(\"|  \"+str(V1[j][1])+\"i    |  \")\n",
    "        elif V1[j][1]==0:\n",
    "            print(\"|   \"+str(V1[j][0])+\"    |\")\n",
    "        else:\n",
    "            print(\"|(\",V1[j][0],\"+\"+str(V1[j][1])+\"i )|  \")"
   ]
  },
  {
   "cell_type": "markdown",
   "metadata": {},
   "source": [
    "### 1.ADICION DE VECTORES COMPLEJOS."
   ]
  },
  {
   "cell_type": "code",
   "execution_count": 20,
   "metadata": {},
   "outputs": [],
   "source": [
    "def adi_vectores(V1, V2):\n",
    "    ## Se define un tamaño y una lista que guarde el resultado componene\n",
    "    ## a componente\n",
    "    tam = len(V1)\n",
    "    Resul = []\n",
    "    if tam==len(V2):\n",
    "        for i in range(tam):\n",
    "            Resul.append(suma_C(V1[i], V2[i]))\n",
    "        print(\"----------Adición de vectores complejos-------\")\n",
    "        print(\"El resultado: \")\n",
    "        imprimir_vec(Resul, len(Resul))\n",
    "              \n",
    "        return Resul"
   ]
  },
  {
   "cell_type": "code",
   "execution_count": 21,
   "metadata": {},
   "outputs": [
    {
     "name": "stdout",
     "output_type": "stream",
     "text": [
      "----------Adición de vectores complejos-------\n",
      "El resultado: \n",
      "Vector complejo:\n",
      "|   16    |\n",
      "|( 1 +1i )|  \n",
      "|( 3 +-9i )|  \n"
     ]
    },
    {
     "data": {
      "text/plain": [
       "[(16, 0), (1, 1), (3, -9)]"
      ]
     },
     "execution_count": 21,
     "metadata": {},
     "output_type": "execute_result"
    }
   ],
   "source": [
    "adi_vectores([(8, 3), (-1, -4), (0,-9)],[(8, -3),(2, 5), (3,0)])"
   ]
  },
  {
   "cell_type": "markdown",
   "metadata": {},
   "source": [
    "### 2. MULTIPLICACION DE ESCALAR POR VECTOR COMPLEJO."
   ]
  },
  {
   "cell_type": "code",
   "execution_count": 22,
   "metadata": {},
   "outputs": [],
   "source": [
    "def Mul_esc_vect(e, V1):\n",
    "    Resul = []\n",
    "    for i in range(len(V1)):\n",
    "        Resul.append(Mul_C(e,V1[i]))\n",
    "    \n",
    "    \n",
    "    print(\"----------Multiplicacion de escalar por vector complejo-------\")\n",
    "    print(\"El resultado: \")\n",
    "    imprimir_vec(Resul, len(Resul))\n",
    "    \n",
    "    return Resul"
   ]
  },
  {
   "cell_type": "code",
   "execution_count": 23,
   "metadata": {},
   "outputs": [
    {
     "name": "stdout",
     "output_type": "stream",
     "text": [
      "----------Multiplicacion de escalar por vector complejo-------\n",
      "El resultado: \n",
      "Vector complejo:\n",
      "|( -3 +-7i )|  \n",
      "|   2    |\n",
      "|( 7 +11i )|  \n"
     ]
    },
    {
     "data": {
      "text/plain": [
       "[(-3, -7), (2, 0), (7, 11)]"
      ]
     },
     "execution_count": 23,
     "metadata": {},
     "output_type": "execute_result"
    }
   ],
   "source": [
    "Mul_esc_vect((-1,1) , [(-2,5),(-1,-1),(2,-9)])"
   ]
  },
  {
   "cell_type": "markdown",
   "metadata": {},
   "source": [
    "### 3. INVERSO ADITIVO DE VECTOR COMPLEJO"
   ]
  },
  {
   "cell_type": "code",
   "execution_count": 24,
   "metadata": {},
   "outputs": [],
   "source": [
    "def inve_vector(V1):\n",
    "    Resul = Mul_esc_vect((-1,0),V1)\n",
    "    return Resul\n",
    "    "
   ]
  },
  {
   "cell_type": "code",
   "execution_count": 25,
   "metadata": {},
   "outputs": [
    {
     "name": "stdout",
     "output_type": "stream",
     "text": [
      "----------Multiplicacion de escalar por vector complejo-------\n",
      "El resultado: \n",
      "Vector complejo:\n",
      "|( 5 +-2i )|  \n",
      "|   -3    |\n",
      "|  1i    |  \n"
     ]
    },
    {
     "data": {
      "text/plain": [
       "[(5, -2), (-3, 0), (0, 1)]"
      ]
     },
     "execution_count": 25,
     "metadata": {},
     "output_type": "execute_result"
    }
   ],
   "source": [
    "inve_vector([(-5, 2),(3, 0),(0, -1)])"
   ]
  },
  {
   "cell_type": "markdown",
   "metadata": {},
   "source": [
    "### 0.2 IMPRIMIR MATRICES"
   ]
  },
  {
   "cell_type": "code",
   "execution_count": 26,
   "metadata": {},
   "outputs": [],
   "source": [
    "def imprimir_mat(V1, fila1, columna1):\n",
    "    print(\"Matriz compleja:\")\n",
    "    for i in range(fila1):\n",
    "            for j in range(columna1):\n",
    "                print(\"|(\",V1[i][j][0],\"+\"+str(V1[i][j][1])+\"i )| \", end=\"\")\n",
    "            print(\"\")"
   ]
  },
  {
   "cell_type": "markdown",
   "metadata": {},
   "source": [
    "### 4. SUMA DE MATRICES COMPLEJAS"
   ]
  },
  {
   "cell_type": "code",
   "execution_count": 27,
   "metadata": {},
   "outputs": [],
   "source": [
    "def Adi_matrices(V1, V2):\n",
    "    fila1 = len(V1)\n",
    "    columna1 = len(V1[0])\n",
    "    fila2 = len(V2)\n",
    "    columna2 = len(V2[0])\n",
    "    if fila1==fila2 and columna1==columna2:\n",
    "        Resul = []\n",
    "        for i in range(fila1):\n",
    "            Resul.append([])\n",
    "            for j in range(columna1):\n",
    "                Resul[i].append(suma_C(V1[i][j], V2[i][j]))\n",
    "                \n",
    "        print(\"----------Adición de matrices complejos.-------\")\n",
    "        print(\"El resultado: \")\n",
    "        imprimir_mat(Resul, fila1, columna1)\n",
    "        \n",
    "    \n",
    "    return Resul\n",
    "    \n",
    "    \n",
    "    "
   ]
  },
  {
   "cell_type": "code",
   "execution_count": 28,
   "metadata": {},
   "outputs": [
    {
     "name": "stdout",
     "output_type": "stream",
     "text": [
      "----------Adición de matrices complejos.-------\n",
      "El resultado: \n",
      "Matriz compleja:\n",
      "|( -15 +-5i )| |( -10 +-6i )| |( 7 +3i )| \n",
      "|( 4 +17i )| |( 6 +-7i )| |( 14 +-10i )| \n",
      "|( 5 +5i )| |( 2 +-1i )| |( -2 +-1i )| \n"
     ]
    },
    {
     "data": {
      "text/plain": [
       "[[(-15, -5), (-10, -6), (7, 3)],\n",
       " [(4, 17), (6, -7), (14, -10)],\n",
       " [(5, 5), (2, -1), (-2, -1)]]"
      ]
     },
     "execution_count": 28,
     "metadata": {},
     "output_type": "execute_result"
    }
   ],
   "source": [
    "Adi_matrices([[(-8,-3), (-6,-4), (0 ,-4)],[(-1,8), (6,-10),(8,-5)],[(4,0),(8,5),(-7,-9)]],[[(-7, -2),(-4, -2),(7,7)],[(5,9),(0,3),(6,-5)],[(1,5),(-6,-6),(5,8)]])"
   ]
  },
  {
   "cell_type": "markdown",
   "metadata": {},
   "source": [
    "### 5. MULTIPLICACION DE ESCALAR POR MATRIZ COMPLEJA"
   ]
  },
  {
   "cell_type": "code",
   "execution_count": 29,
   "metadata": {},
   "outputs": [],
   "source": [
    "def Mul_esc_matriz(e, V):\n",
    "    fila1 = len(V)\n",
    "    columna1 = len(V[0])\n",
    "    Resul = []\n",
    "    for i in range(fila1):\n",
    "        Resul.append([])\n",
    "        for j in range(columna1):\n",
    "            Resul[i].append(Mul_C(e,V[i][j]))\n",
    "    print(\"----------Multiplicación escalar de matrices complejas-------\")\n",
    "    print(\"El resultado: \")\n",
    "    imprimir_mat(Resul, fila1, columna1)\n",
    "        \n",
    "    return Resul\n",
    "                "
   ]
  },
  {
   "cell_type": "code",
   "execution_count": 30,
   "metadata": {},
   "outputs": [
    {
     "name": "stdout",
     "output_type": "stream",
     "text": [
      "----------Multiplicación escalar de matrices complejas-------\n",
      "El resultado: \n",
      "Matriz compleja:\n",
      "|( 0 +13i )| |( -4 +32i )| \n",
      "|( 22 +32i )| |( 28 +10i )| \n"
     ]
    },
    {
     "data": {
      "text/plain": [
       "[[(0, 13), (-4, 32)], [(22, 32), (28, 10)]]"
      ]
     },
     "execution_count": 30,
     "metadata": {},
     "output_type": "execute_result"
    }
   ],
   "source": [
    "Mul_esc_matriz((-2,3), [[(3,-2),(8,-4)],[(4,-10),(-2,-8)]])"
   ]
  },
  {
   "cell_type": "markdown",
   "metadata": {},
   "source": [
    "### 6. INVERSO ADITIVO DE MATRIZ COMPLEJA"
   ]
  },
  {
   "cell_type": "code",
   "execution_count": 31,
   "metadata": {},
   "outputs": [],
   "source": [
    "def inv_adi(M1):\n",
    "    Resul = Mul_esc_matriz((-1,0), M1)\n",
    "    return Resul"
   ]
  },
  {
   "cell_type": "code",
   "execution_count": 32,
   "metadata": {},
   "outputs": [
    {
     "name": "stdout",
     "output_type": "stream",
     "text": [
      "----------Multiplicación escalar de matrices complejas-------\n",
      "El resultado: \n",
      "Matriz compleja:\n",
      "|( -7 +-3i )| |( 1 +-7i )| \n",
      "|( 9 +4i )| |( 7 +9i )| \n"
     ]
    },
    {
     "data": {
      "text/plain": [
       "[[(-7, -3), (1, -7)], [(9, 4), (7, 9)]]"
      ]
     },
     "execution_count": 32,
     "metadata": {},
     "output_type": "execute_result"
    }
   ],
   "source": [
    "inv_adi([[(7,3),(-1,7)],[(-9,-4),(-7,-9)]])"
   ]
  },
  {
   "cell_type": "markdown",
   "metadata": {},
   "source": [
    "### 7. MATRIZ TRANSPUESTA"
   ]
  },
  {
   "cell_type": "code",
   "execution_count": 33,
   "metadata": {},
   "outputs": [],
   "source": [
    "def matriz_tran(M1):\n",
    "    fila1 = len(M1)\n",
    "    columna1 = len(M1[0])\n",
    "    Resul = []\n",
    "    for i in range(columna1):\n",
    "        aux = []\n",
    "        for j in range(fila1):\n",
    "            aux.append(M1[j][i])\n",
    "        Resul.append(aux)     \n",
    "    return Resul\n",
    "    "
   ]
  },
  {
   "cell_type": "code",
   "execution_count": 34,
   "metadata": {},
   "outputs": [
    {
     "data": {
      "text/plain": [
       "[[(5, 9), (8, 2)], [(-7, -5), (-3, -7)], [(-1, -4), (7, -8)]]"
      ]
     },
     "execution_count": 34,
     "metadata": {},
     "output_type": "execute_result"
    }
   ],
   "source": [
    "matriz_tran([[(5, 9), (-7, -5), (-1,-4)], [(8,2),(-3,-7), (7, -8)]])"
   ]
  },
  {
   "cell_type": "markdown",
   "metadata": {},
   "source": [
    "### 8. CONJUGADA DE UNA MATRIZ COMPLEJA"
   ]
  },
  {
   "cell_type": "code",
   "execution_count": 35,
   "metadata": {},
   "outputs": [],
   "source": [
    "def Matriz_conju(M1):\n",
    "    fila1 = len(M1)\n",
    "    columna1 = len(M1[0])\n",
    "    Resul = []\n",
    "    for i in range(fila1):\n",
    "        Resul.append([])\n",
    "        for j in range(columna1):\n",
    "            Resul[i].append(Conju_C(M1[i][j]))\n",
    "            \n",
    "    print(\"----------Conjugada de matriz compleja-------\")\n",
    "    print(\"El resultado: \")\n",
    "    imprimir_mat(Resul,fila1 ,columna1)        \n",
    "    return Resul\n"
   ]
  },
  {
   "cell_type": "code",
   "execution_count": 36,
   "metadata": {},
   "outputs": [
    {
     "name": "stdout",
     "output_type": "stream",
     "text": [
      "----------Conjugada de matriz compleja-------\n",
      "El resultado: \n",
      "Matriz compleja:\n",
      "|( -6 +-1i )| |( 3 +-8i )| \n",
      "|( 2 +6i )| |( 3 +0i )| \n"
     ]
    },
    {
     "data": {
      "text/plain": [
       "[[(-6, -1), (3, -8)], [(2, 6), (3, 0)]]"
      ]
     },
     "execution_count": 36,
     "metadata": {},
     "output_type": "execute_result"
    }
   ],
   "source": [
    "Matriz_conju([[(-6, 1), (3, 8)], [(2, -6), (3, 0)]])"
   ]
  },
  {
   "cell_type": "markdown",
   "metadata": {},
   "source": [
    "### 9. MATRIZ ADJUNTA(DAGA)"
   ]
  },
  {
   "cell_type": "code",
   "execution_count": 37,
   "metadata": {},
   "outputs": [],
   "source": [
    "def Matriz_adj(M1):\n",
    "    fila1 = len(M1)\n",
    "    columna1 = len(M1[0])\n",
    "    Resul = matriz_tran(Matriz_conju(M1))\n",
    "    \n",
    "    print(\"----------Conjugada de matriz adjunta-------\")\n",
    "    print(\"El resultado: \")\n",
    "    imprimir_mat(Resul,columna1, fila1)        \n",
    "    return Resul"
   ]
  },
  {
   "cell_type": "code",
   "execution_count": 38,
   "metadata": {},
   "outputs": [
    {
     "name": "stdout",
     "output_type": "stream",
     "text": [
      "----------Conjugada de matriz compleja-------\n",
      "El resultado: \n",
      "Matriz compleja:\n",
      "|( 7 +-7i )| |( 3 +-8i )| |( 8 +-4i )| \n",
      "|( 5 +0i )| |( 8 +6i )| |( -10 +1i )| \n",
      "----------Conjugada de matriz adjunta-------\n",
      "El resultado: \n",
      "Matriz compleja:\n",
      "|( 7 +-7i )| |( 5 +0i )| \n",
      "|( 3 +-8i )| |( 8 +6i )| \n",
      "|( 8 +-4i )| |( -10 +1i )| \n"
     ]
    },
    {
     "data": {
      "text/plain": [
       "[[(7, -7), (5, 0)], [(3, -8), (8, 6)], [(8, -4), (-10, 1)]]"
      ]
     },
     "execution_count": 38,
     "metadata": {},
     "output_type": "execute_result"
    }
   ],
   "source": [
    "Matriz_adj([[(7, 7), (3, 8),(8,4)], [(5, 0), (8, -6),(-10,-1)]])"
   ]
  },
  {
   "cell_type": "markdown",
   "metadata": {},
   "source": [
    "### 10. PRODUCTO ENTRE MATRICES"
   ]
  },
  {
   "cell_type": "code",
   "execution_count": 39,
   "metadata": {},
   "outputs": [],
   "source": [
    "def mul_pivote(F1, F2):\n",
    "    R = Mul_C(F1[0],F2[0])\n",
    "    suma = R\n",
    "    for i in range(1,len(F1)):\n",
    "        R = Mul_C(F1[i],F2[i])\n",
    "        suma = suma_C(suma,R)\n",
    "    return suma\n",
    "       \n",
    "        "
   ]
  },
  {
   "cell_type": "code",
   "execution_count": 40,
   "metadata": {},
   "outputs": [],
   "source": [
    "def produc_matriz(M1, M2):\n",
    "    fila1 = len(M1)\n",
    "    columna1 = len(M1[0])\n",
    "    fila2 = len(M2)\n",
    "    columna2 = len(M2[0])\n",
    "    Resul = []\n",
    "    if columna1==fila2:\n",
    "        transpuesta = matriz_tran(M2)\n",
    "        for i in range(fila1):\n",
    "            Resul.append([])\n",
    "            for j in range(columna2):\n",
    "                s = mul_pivote(M1[i],transpuesta[j])\n",
    "                Resul[i].append(s)\n",
    "               \n",
    "        return Resul\n",
    "    else:\n",
    "        print(\"ERROR!\")\n",
    "        return 0\n",
    "    "
   ]
  },
  {
   "cell_type": "code",
   "execution_count": 41,
   "metadata": {},
   "outputs": [
    {
     "data": {
      "text/plain": [
       "[[(-33, 153), (120, 0), (-44, -22)],\n",
       " [(87, 0), (-26, -117), (107, 70)],\n",
       " [(0, 165), (147, 26), (69, -36)]]"
      ]
     },
     "execution_count": 41,
     "metadata": {},
     "output_type": "execute_result"
    }
   ],
   "source": [
    "produc_matriz([[(-6,2),(0,6),(7,2)],[(6,9),(7,7),(-6,-6)],[(5,8),(-6,8),(6,9)]],[[(9,-6),(-3,-4),(5,-2)],[(3,6),(-1,-5),(0,-5)],[(9,9),(8,-4),(-8,-4)]])"
   ]
  },
  {
   "cell_type": "code",
   "execution_count": 42,
   "metadata": {},
   "outputs": [
    {
     "name": "stdout",
     "output_type": "stream",
     "text": [
      "ERROR!\n"
     ]
    },
    {
     "data": {
      "text/plain": [
       "0"
      ]
     },
     "execution_count": 42,
     "metadata": {},
     "output_type": "execute_result"
    }
   ],
   "source": [
    "produc_matriz([[(2,1),(3,0),(1,-1)],[(0,0),(0,-2),(7,-3)],[(3,0),(0,0),(1,-2)]],[[(0,-1),(1,0)],[(0,0),(0,1)]])"
   ]
  },
  {
   "cell_type": "markdown",
   "metadata": {},
   "source": [
    "### 11 ACCION DE MATRIZ COMPLEJA SOBRE VECTOR COMPLEJO"
   ]
  },
  {
   "cell_type": "code",
   "execution_count": 43,
   "metadata": {},
   "outputs": [],
   "source": [
    "def mul2(F1, F2):\n",
    "    R = Mul_C(F1[0],F2[0][0])\n",
    "    suma = R\n",
    "    for i in range(1,len(F1)):\n",
    "        R = Mul_C(F1[i],F2[0][i])\n",
    "        suma = suma_C(suma,R)\n",
    "    return suma"
   ]
  },
  {
   "cell_type": "code",
   "execution_count": 44,
   "metadata": {},
   "outputs": [],
   "source": [
    "def accion(M,V):\n",
    "    fila1 = len(M)\n",
    "    columna1 = len(M[0])\n",
    "    Resul = [[]]\n",
    "    fila2 = len(V[0])\n",
    "    if columna1==fila2:\n",
    "        for i in range(fila1):\n",
    "            s = mul2(M[i],V)\n",
    "            Resul[0].append(s)\n",
    "        return Resul\n",
    "    else:\n",
    "        return False"
   ]
  },
  {
   "cell_type": "code",
   "execution_count": 45,
   "metadata": {},
   "outputs": [
    {
     "data": {
      "text/plain": [
       "[[(2, -2), (-5, 5)]]"
      ]
     },
     "execution_count": 45,
     "metadata": {},
     "output_type": "execute_result"
    }
   ],
   "source": [
    "accion([[(1,-1),(0,-1)],[(0,5),(0,0)]],[[(1,1),(2,0)]])"
   ]
  },
  {
   "cell_type": "markdown",
   "metadata": {},
   "source": [
    "### 12.PRODUCTO INTERNO DE VECTORES COMPLEJOS"
   ]
  },
  {
   "cell_type": "code",
   "execution_count": 46,
   "metadata": {},
   "outputs": [],
   "source": [
    "def pro_punto(V1,V2):\n",
    "    fila1 = len(V1)\n",
    "    fila2 = len(V2)\n",
    "    S = (0,0)\n",
    "    if fila1==fila2:\n",
    "        \n",
    "        for i in range(fila1):\n",
    "            S = suma_C(S,Mul_C(Conju_C(V1[i]), V2[i]))\n",
    "                \n",
    "        print(\"----------Producto interno de vectores complejos-------\")\n",
    "        print(\"El resultado: \")\n",
    "        imprimir(S)     \n",
    "        return S\n",
    "    else:\n",
    "        return 0\n",
    "    "
   ]
  },
  {
   "cell_type": "code",
   "execution_count": 47,
   "metadata": {},
   "outputs": [
    {
     "name": "stdout",
     "output_type": "stream",
     "text": [
      "----------Producto interno de vectores complejos-------\n",
      "El resultado: \n",
      "Numero complejo : 4 +1i\n"
     ]
    },
    {
     "data": {
      "text/plain": [
       "(4, 1)"
      ]
     },
     "execution_count": 47,
     "metadata": {},
     "output_type": "execute_result"
    }
   ],
   "source": [
    "pro_punto([(2,-1),(-8,-5),(-2,-6)],[(6,-3),(5,-1),(-6,-2)])"
   ]
  },
  {
   "cell_type": "markdown",
   "metadata": {},
   "source": [
    "### 13. NORMA DE VECTOR COMPLEJO"
   ]
  },
  {
   "cell_type": "code",
   "execution_count": 48,
   "metadata": {},
   "outputs": [],
   "source": [
    "def norma_vec(V):\n",
    "    V2 = pro_punto(V,V)\n",
    "    suma = 0\n",
    "    for i in range(len(V2)):\n",
    "        print(V2[i])\n",
    "        suma += V2[i]\n",
    "    Resul = math.sqrt(suma)\n",
    "    print(\"----------Norma de vectores complejos-------\")\n",
    "    print(\"Resultado:\",int(Resul))\n",
    "    return Resul\n",
    "    "
   ]
  },
  {
   "cell_type": "code",
   "execution_count": 49,
   "metadata": {},
   "outputs": [
    {
     "name": "stdout",
     "output_type": "stream",
     "text": [
      "----------Producto interno de vectores complejos-------\n",
      "El resultado: \n",
      "Numero complejo : 100\n",
      "100\n",
      "0\n",
      "----------Norma de vectores complejos-------\n",
      "Resultado: 10\n"
     ]
    },
    {
     "data": {
      "text/plain": [
       "10.0"
      ]
     },
     "execution_count": 49,
     "metadata": {},
     "output_type": "execute_result"
    }
   ],
   "source": [
    "norma_vec([(4,5),(3,1),(0,-7)])"
   ]
  },
  {
   "cell_type": "markdown",
   "metadata": {},
   "source": [
    "### 14. DISTANCIA ENTRE VECTORES"
   ]
  },
  {
   "cell_type": "code",
   "execution_count": 50,
   "metadata": {},
   "outputs": [],
   "source": [
    "def distancia(V1,V2):\n",
    "    suma = adi_vectores(V1,inve_vector(V2))\n",
    "    Resul = norma_vec(suma)\n",
    "    return Resul"
   ]
  },
  {
   "cell_type": "code",
   "execution_count": 51,
   "metadata": {},
   "outputs": [
    {
     "name": "stdout",
     "output_type": "stream",
     "text": [
      "----------Multiplicacion de escalar por vector complejo-------\n",
      "El resultado: \n",
      "Vector complejo:\n",
      "|( -7 +-8i )|  \n",
      "|( -2 +8i )|  \n",
      "|( -1 +-4i )|  \n",
      "----------Adición de vectores complejos-------\n",
      "El resultado: \n",
      "Vector complejo:\n",
      "|( -5 +-1i )|  \n",
      "|( 2 +7i )|  \n",
      "|( 1 +-8i )|  \n",
      "----------Producto interno de vectores complejos-------\n",
      "El resultado: \n",
      "Numero complejo : 144\n",
      "144\n",
      "0\n",
      "----------Norma de vectores complejos-------\n",
      "Resultado: 12\n"
     ]
    },
    {
     "data": {
      "text/plain": [
       "12.0"
      ]
     },
     "execution_count": 51,
     "metadata": {},
     "output_type": "execute_result"
    }
   ],
   "source": [
    "distancia([(2,7),(4,-1),(2,-4)],[(7,8),(2,-8),(1,4)])"
   ]
  },
  {
   "cell_type": "markdown",
   "metadata": {},
   "source": [
    "### 15. Matriz unitaria"
   ]
  },
  {
   "cell_type": "code",
   "execution_count": 52,
   "metadata": {},
   "outputs": [],
   "source": [
    "def mat_uni(M):\n",
    "    fila1 = len(M)\n",
    "    columna1 = len(M[0])\n",
    "    identidad = []\n",
    "    for i in range(fila1):\n",
    "        identidad.append([])\n",
    "        for j in range(columna1):\n",
    "            if i==j:\n",
    "                identidad[i].append(1)\n",
    "            else:\n",
    "                identidad[i].append(0)\n",
    "    daga = Matriz_adj(M)\n",
    "    Resul = produc_matriz(M,daga)\n",
    "    R2 = identidad == Resul\n",
    "    print(\"----------¿Es la matriz compleja una matriz unitaria?-------\")\n",
    "    print(\"El resultado: \")\n",
    "    return R2\n",
    "   \n",
    "            \n",
    "        \n",
    "    "
   ]
  },
  {
   "cell_type": "code",
   "execution_count": 53,
   "metadata": {},
   "outputs": [
    {
     "name": "stdout",
     "output_type": "stream",
     "text": [
      "----------Conjugada de matriz compleja-------\n",
      "El resultado: \n",
      "Matriz compleja:\n",
      "|( 0 +-1i )| |( 1 +0i )| |( 0 +0i )| \n",
      "|( 0 +0i )| |( 0 +-1i )| |( 1 +0i )| \n",
      "|( 1 +0i )| |( 0 +0i )| |( 0 +-1i )| \n",
      "----------Conjugada de matriz adjunta-------\n",
      "El resultado: \n",
      "Matriz compleja:\n",
      "|( 0 +-1i )| |( 0 +0i )| |( 1 +0i )| \n",
      "|( 1 +0i )| |( 0 +-1i )| |( 0 +0i )| \n",
      "|( 0 +0i )| |( 1 +0i )| |( 0 +-1i )| \n",
      "----------¿Es la matriz compleja una matriz unitaria?-------\n",
      "El resultado: \n"
     ]
    },
    {
     "data": {
      "text/plain": [
       "False"
      ]
     },
     "execution_count": 53,
     "metadata": {},
     "output_type": "execute_result"
    }
   ],
   "source": [
    "mat_uni([[(0,1),(1,0),(0,0)],[(0,0),(0,1),(1,0)],[(1,0),(0,0),(0,1)]])"
   ]
  },
  {
   "cell_type": "markdown",
   "metadata": {},
   "source": [
    "### 16. MATRIZ HERMITIANA"
   ]
  },
  {
   "cell_type": "code",
   "execution_count": 54,
   "metadata": {},
   "outputs": [],
   "source": [
    "def mat_her(M):\n",
    "    daga = Matriz_adj(M)\n",
    "    Resul = M == daga\n",
    "    print(\"----------¿Es la matriz compleja una matriz hermitiana?-------\")\n",
    "    print(\"El resultado: \")\n",
    "    print(Resul)\n",
    "    return Resul"
   ]
  },
  {
   "cell_type": "code",
   "execution_count": 55,
   "metadata": {},
   "outputs": [
    {
     "name": "stdout",
     "output_type": "stream",
     "text": [
      "----------Conjugada de matriz compleja-------\n",
      "El resultado: \n",
      "Matriz compleja:\n",
      "|( 3 +0i )| |( 2 +1i )| |( 0 +3i )| \n",
      "|( 2 +-1i )| |( 0 +0i )| |( 1 +1i )| \n",
      "|( 0 +-3i )| |( 1 +-1i )| |( 0 +0i )| \n",
      "----------Conjugada de matriz adjunta-------\n",
      "El resultado: \n",
      "Matriz compleja:\n",
      "|( 3 +0i )| |( 2 +-1i )| |( 0 +-3i )| \n",
      "|( 2 +1i )| |( 0 +0i )| |( 1 +-1i )| \n",
      "|( 0 +3i )| |( 1 +1i )| |( 0 +0i )| \n",
      "----------¿Es la matriz compleja una matriz hermitiana?-------\n",
      "El resultado: \n",
      "True\n"
     ]
    },
    {
     "data": {
      "text/plain": [
       "True"
      ]
     },
     "execution_count": 55,
     "metadata": {},
     "output_type": "execute_result"
    }
   ],
   "source": [
    "mat_her([[(3,0),(2,-1),(0,-3)],[(2,1),(0,0),(1,-1)],[(0,3),(1,1),(0,0)]])"
   ]
  },
  {
   "cell_type": "markdown",
   "metadata": {},
   "source": [
    "### Producto Tesorial entre matrices complejas"
   ]
  },
  {
   "cell_type": "code",
   "execution_count": 56,
   "metadata": {},
   "outputs": [],
   "source": [
    "def producto_tensorial(M, V):\n",
    "    fila1 = len(M)\n",
    "    columna1 = len(M[0])\n",
    "    fila2 = len(V)\n",
    "    columna2 = len(V[0])\n",
    "    filaT = fila1 * fila2 \n",
    "    columnaT = columna1 * columna2\n",
    "    Resul = []\n",
    "    for i in range(filaT):\n",
    "        Resul.append([])\n",
    "        for j in range(columnaT):\n",
    "            Resul[i].append(0)\n",
    "    for i in range(filaT):\n",
    "        for j in range(columnaT):\n",
    "            Resul[i][j] = Mul_C(M[i // fila2][j // columna2],V[i % fila2][j % columna2])\n",
    "    return Resul\n",
    "            "
   ]
  },
  {
   "cell_type": "code",
   "execution_count": 57,
   "metadata": {},
   "outputs": [
    {
     "data": {
      "text/plain": [
       "[[(-3, 1), (0, -4), (2, -2), (0, 0), (0, 0), (0, 0)],\n",
       " [(-1, 5), (2, 4), (0, 4), (0, 0), (0, 0), (0, 0)],\n",
       " [(-3, -1), (2, 0), (1, 3), (0, 0), (0, 0), (0, 0)],\n",
       " [(-1, 2), (-2, -2), (0, -2), (-2, -1), (2, -2), (2, 0)],\n",
       " [(2, 3), (3, 1), (2, 2), (-3, 2), (-1, 3), (-2, 2)],\n",
       " [(-2, 1), (1, -1), (2, 1), (-1, -2), (1, 1), (-1, 2)]]"
      ]
     },
     "execution_count": 57,
     "metadata": {},
     "output_type": "execute_result"
    }
   ],
   "source": [
    "producto_tensorial([[(1,1),(0,0)],[(1,0),(0,1)]],[[(-1,2),(-2,-2),(0,-2)],[(2,3),(3,1),(2,2)],[(-2,1),(1,-1),(2,1)]])"
   ]
  },
  {
   "cell_type": "code",
   "execution_count": 58,
   "metadata": {},
   "outputs": [
    {
     "data": {
      "text/plain": [
       "[[(0.8, 0.0)],\n",
       " [(0.2, 0.0)],\n",
       " [(0.0, 0.0)],\n",
       " [(0.0, 0.0)],\n",
       " [(0.0, 0.0)],\n",
       " [(0.0, 0.0)]]"
      ]
     },
     "execution_count": 58,
     "metadata": {},
     "output_type": "execute_result"
    }
   ],
   "source": [
    "producto_tensorial([[(1,0)],[(0,0)],[(0,0)]],[[(0.8,0)],[(0.2,0)]])"
   ]
  },
  {
   "cell_type": "markdown",
   "metadata": {},
   "source": [
    "### SISTEMA CLASICO"
   ]
  },
  {
   "cell_type": "code",
   "execution_count": 59,
   "metadata": {},
   "outputs": [],
   "source": [
    "def es_clasica(M):\n",
    "    cont = 0\n",
    "    cond = True\n",
    "    tam = len(M[0])\n",
    "    for j in range(tam):\n",
    "        for i in range(tam):\n",
    "            if M[i][j][0]==1:\n",
    "                cont+=1\n",
    "        if cont!=1:\n",
    "            cond = False\n",
    "            break\n",
    "        cont=0\n",
    "    return cond"
   ]
  },
  {
   "cell_type": "code",
   "execution_count": 60,
   "metadata": {},
   "outputs": [],
   "source": [
    "def dina_clasica(V,M,clicks):\n",
    "    if es_clasica(M):\n",
    "        # Ciclo para el cálculo de las acciones\n",
    "        for t in range(clicks):\n",
    "             V = accion(M, V)\n",
    "                \n",
    "        print('Vector estado final:', V)\n",
    "        \n",
    "        labels = []\n",
    "        estado = []\n",
    "        for i in range(len(V[0])):\n",
    "            labels.append('Pto. '+str(i))\n",
    "            estado.append(V[0][i][0])\n",
    "        index = np.arange(len(labels))\n",
    "        plt.bar(index, estado)\n",
    "        plt.xlabel('Estado')\n",
    "        plt.ylabel('Valor')\n",
    "        plt.xticks(index, labels, rotation=30)\n",
    "        plt.title('Evolución dinámica del sistema')\n",
    "        plt.show()\n",
    "        return V\n",
    "        \n",
    "    else:\n",
    "        return False\n",
    "    \n"
   ]
  },
  {
   "cell_type": "code",
   "execution_count": 61,
   "metadata": {},
   "outputs": [
    {
     "name": "stdout",
     "output_type": "stream",
     "text": [
      "Vector estado final: [[(0, 0), (0, 0), (1, 0), (7, 0), (2, 0), (21, 0), (5, 0), (0, 0), (4, 0), (0, 0), (3, 0), (5, 0), (0, 0)]]\n"
     ]
    },
    {
     "data": {
      "image/png": "[encoded data removed]",
      "text/plain": [
       "<Figure size 432x288 with 1 Axes>"
      ]
     },
     "metadata": {
      "needs_background": "light"
     },
     "output_type": "display_data"
    },
    {
     "data": {
      "text/plain": [
       "[[(0, 0),\n",
       "  (0, 0),\n",
       "  (1, 0),\n",
       "  (7, 0),\n",
       "  (2, 0),\n",
       "  (21, 0),\n",
       "  (5, 0),\n",
       "  (0, 0),\n",
       "  (4, 0),\n",
       "  (0, 0),\n",
       "  (3, 0),\n",
       "  (5, 0),\n",
       "  (0, 0)]]"
      ]
     },
     "execution_count": 61,
     "metadata": {},
     "output_type": "execute_result"
    }
   ],
   "source": [
    "dina_clasica([[(10,0), (4,0), (1,0), (7,0), (2,0), (2,0), (11,0), (0,0), (3,0), (1,0), (0,0), (5,0),(2,0)]],\n",
    "             [[(0,0),(0,0),(0,0),(0,0),(0,0),(0,0),(0,0),(0,0),(0,0),(0,0),(0,0),(0,0),(1,0)],\n",
    "             [(0,0),(0,0),(0,0),(0,0),(0,0),(0,0),(0,0),(0,0),(0,0),(0,0),(1,0),(0,0),(0,0)],\n",
    "             [(0,0),(0,0),(0,0),(0,0),(0,0),(0,0),(0,0),(0,0),(0,0),(0,0),(0,0),(1,0),(0,0)],\n",
    "             [(0,0),(0,0),(1,0),(0,0),(0,0),(0,0),(0,0),(0,0),(0,0),(0,0),(0,0),(0,0),(0,0)],\n",
    "             [(0,0),(0,0),(0,0),(1,0),(0,0),(0,0),(0,0),(0,0),(0,0),(0,0),(0,0),(0,0),(0,0)],\n",
    "             [(0,0),(0,0),(0,0),(0,0),(0,0),(0,0),(1,0),(0,0),(0,0),(0,0),(0,0),(0,0),(0,0)],\n",
    "             [(0,0),(0,0),(0,0),(0,0),(0,0),(1,0),(0,0),(0,0),(0,0),(1,0),(0,0),(0,0),(0,0)],\n",
    "             [(0,0),(0,0),(0,0),(0,0),(1,0),(0,0),(0,0),(0,0),(0,0),(0,0),(0,0),(0,0),(0,0)],\n",
    "             [(0,0),(1,0),(0,0),(0,0),(0,0),(0,0),(0,0),(0,0),(0,0),(0,0),(0,0),(0,0),(0,0)],\n",
    "             [(1,0),(0,0),(0,0),(0,0),(0,0),(0,0),(0,0),(0,0),(0,0),(0,0),(0,0),(0,0),(0,0)],\n",
    "             [(0,0),(0,0),(0,0),(0,0),(0,0),(0,0),(0,0),(0,0),(1,0),(0,0),(0,0),(0,0),(0,0)],\n",
    "             [(0,0),(0,0),(0,0),(0,0),(0,0),(0,0),(0,0),(1,0),(0,0),(0,0),(0,0),(0,0),(0,0)],\n",
    "             [(0,0),(0,0),(0,0),(0,0),(0,0),(0,0),(0,0),(0,0),(0,0),(0,0),(0,0),(0,0),(0,0)],\n",
    "             ],25)"
   ]
  },
  {
   "cell_type": "markdown",
   "metadata": {},
   "source": [
    "### SISTEMA PROBABILISTICO"
   ]
  },
  {
   "cell_type": "code",
   "execution_count": 62,
   "metadata": {},
   "outputs": [],
   "source": [
    "def es_doble_esto(M):\n",
    "    cond = True\n",
    "    tam = len(M[0])\n",
    "    suma = (0,0)\n",
    "    for i in range(tam):\n",
    "        for j in range(tam):\n",
    "            suma = suma_C(suma,M[i][j])\n",
    "        if round(suma[0]) != 1:\n",
    "            cond = False\n",
    "            break\n",
    "        suma = (0,0)\n",
    "    if cond:\n",
    "        for j in range(tam):\n",
    "            for i in range(tam):\n",
    "                suma = suma_C(suma,M[i][j])\n",
    "            if round(suma[0]) != 1:\n",
    "                cond = False\n",
    "                break\n",
    "            suma = (0,0)\n",
    "    return cond\n",
    "        \n",
    "    "
   ]
  },
  {
   "cell_type": "code",
   "execution_count": 63,
   "metadata": {},
   "outputs": [],
   "source": [
    "def dina_probabilistica(V,M,clicks):\n",
    "    if (es_doble_esto(M)):\n",
    "        # Ciclo para el cálculo de las acciones\n",
    "        for t in range(clicks):\n",
    "             V = accion(M, V)\n",
    "        print('Vector estado final:', V)\n",
    "        labels = []\n",
    "        estado = []\n",
    "        for i in range(len(V[0])):\n",
    "            labels.append('Pto. '+str(i))\n",
    "            estado.append(V[0][i][0])\n",
    "        index = np.arange(len(labels))\n",
    "        plt.bar(index, estado)\n",
    "        plt.xlabel('Estado')\n",
    "        plt.ylabel('Valor')\n",
    "        plt.xticks(index, labels, rotation=30)\n",
    "        plt.title('Evolución dinámica del sistema')\n",
    "        plt.show()\n",
    "        return V\n",
    "    else:\n",
    "        return False\n"
   ]
  },
  {
   "cell_type": "code",
   "execution_count": 64,
   "metadata": {},
   "outputs": [
    {
     "name": "stdout",
     "output_type": "stream",
     "text": [
      "Vector estado final: [[(0.5833333333333334, 0.0), (0.25, 0.0), (0.16666666666666666, 0.0)]]\n"
     ]
    },
    {
     "data": {
      "image/png": "[encoded data removed]",
      "text/plain": [
       "<Figure size 432x288 with 1 Axes>"
      ]
     },
     "metadata": {
      "needs_background": "light"
     },
     "output_type": "display_data"
    },
    {
     "data": {
      "text/plain": [
       "[[(0.5833333333333334, 0.0), (0.25, 0.0), (0.16666666666666666, 0.0)]]"
      ]
     },
     "execution_count": 64,
     "metadata": {},
     "output_type": "execute_result"
    }
   ],
   "source": [
    "dina_probabilistica([[(1/6,0), (1/6,0), (2/3,0)]],[[(0,0),(1/6,0),(5/6,0)],[(1/3,0),(1/2,0),(1/6,0)],[(2/3,0),(1/3,0),(0,0)]],1)"
   ]
  },
  {
   "cell_type": "markdown",
   "metadata": {},
   "source": [
    "### SISTEMA CUANTICO"
   ]
  },
  {
   "cell_type": "code",
   "execution_count": 65,
   "metadata": {},
   "outputs": [],
   "source": [
    "def matriz_prob(M):\n",
    "    fila = len(M)\n",
    "    columna = len(M[0])\n",
    "    for i in range(fila):\n",
    "        for j in range(columna):\n",
    "            M[i][j] = mod2(M[i][j])\n",
    "    return M\n",
    "        "
   ]
  },
  {
   "cell_type": "code",
   "execution_count": 66,
   "metadata": {},
   "outputs": [],
   "source": [
    "def mod2(C):\n",
    "    return ((C[0]**2)+(C[1]**2),0)"
   ]
  },
  {
   "cell_type": "code",
   "execution_count": 67,
   "metadata": {},
   "outputs": [],
   "source": [
    "def cuantico(V,M,clicks):\n",
    "    M = matriz_prob(M)\n",
    "    if es_doble_esto(M):\n",
    "        \n",
    "        for t in range(clicks):\n",
    "            V = accion(M, V)\n",
    "        print('Vector estado final:', V)\n",
    "        labels = []\n",
    "        estado = []\n",
    "        for i in range(len(V[0])):\n",
    "            labels.append('Pto. '+str(i))\n",
    "            estado.append(V[0][i][0])\n",
    "        index = np.arange(len(labels))\n",
    "        plt.bar(index, estado)\n",
    "        plt.xlabel('Estado')\n",
    "        plt.ylabel('Valor')\n",
    "        plt.xticks(index, labels, rotation=30)\n",
    "        plt.title('Evolución dinámica del sistema')\n",
    "        plt.show()\n",
    "        return V\n",
    "    else:\n",
    "        return False\n",
    "            \n",
    "        "
   ]
  },
  {
   "cell_type": "code",
   "execution_count": 68,
   "metadata": {},
   "outputs": [
    {
     "name": "stdout",
     "output_type": "stream",
     "text": [
      "Vector estado final: [[(0.4999999999999998, 0.0), (0.4999999999999998, 0.0)]]\n"
     ]
    },
    {
     "data": {
      "image/png": "[encoded data removed]",
      "text/plain": [
       "<Figure size 432x288 with 1 Axes>"
      ]
     },
     "metadata": {
      "needs_background": "light"
     },
     "output_type": "display_data"
    },
    {
     "data": {
      "text/plain": [
       "[[(0.4999999999999998, 0.0), (0.4999999999999998, 0.0)]]"
      ]
     },
     "execution_count": 68,
     "metadata": {},
     "output_type": "execute_result"
    }
   ],
   "source": [
    "cuantico([[(1,0),(0,0)]],[[(1/(2**(1/2)),0),(0,-1/(2**(1/2)))],[(0,1/(2**(1/2))),(-1/(2**(1/2)),0)]],2)"
   ]
  },
  {
   "cell_type": "markdown",
   "metadata": {},
   "source": [
    "### ENSAMBLE DE UN SISTEMA"
   ]
  },
  {
   "cell_type": "code",
   "execution_count": 103,
   "metadata": {},
   "outputs": [],
   "source": [
    "def ensamble(V1, V2, M1,M2, clicks):\n",
    "    V = producto_tensorial(V1,V2)\n",
    "    \n",
    "    Mr = producto_tensorial(M1,M2)\n",
    "    clicks = 5\n",
    "    # Ciclo para el cálculo de las acciones\n",
    "    for t in range(clicks):\n",
    "        V = accion(Mr, V)\n",
    "    print('Vector estado final:', V)\n",
    "    labels = []\n",
    "    estado = []\n",
    "    for i in range(len(V1[0])):\n",
    "        for j in range(len(V2[0])):\n",
    "            labels.append(str(i)+str(j))\n",
    "            \n",
    "    for k in range(len(V[0])):\n",
    "            estado.append(V[0][k][0])\n",
    "    index = np.arange(len(labels))\n",
    "    plt.bar(index, estado)\n",
    "    plt.xlabel('Estado')\n",
    "    plt.ylabel('Valor')\n",
    "    plt.xticks(index, labels, rotation=30)\n",
    "    plt.title('Evolución dinámica del sistema')\n",
    "    plt.show()\n",
    "    return V\n",
    "    "
   ]
  },
  {
   "cell_type": "code",
   "execution_count": 104,
   "metadata": {},
   "outputs": [
    {
     "name": "stdout",
     "output_type": "stream",
     "text": [
      "Vector estado final: [[(0.06854114583333333, 0.0), (0.08497952546296297, 0.0), (0.09477932870370372, 0.0), (0.06920364583333334, 0.0), (0.08580091435185187, 0.0), (0.09569543981481482, 0.0), (0.06930522916666668, 0.0), (0.08592686064814815, 0.0), (0.0958359101851852, 0.0), (0.06899164583333334, 0.0), (0.08553806990740741, 0.0), (0.09540228425925927, 0.0)]]\n"
     ]
    },
    {
     "data": {
      "image/png": "[encoded data removed]",
      "text/plain": [
       "<Figure size 432x288 with 1 Axes>"
      ]
     },
     "metadata": {
      "needs_background": "light"
     },
     "output_type": "display_data"
    },
    {
     "data": {
      "text/plain": [
       "[[(0.06854114583333333, 0.0),\n",
       "  (0.08497952546296297, 0.0),\n",
       "  (0.09477932870370372, 0.0),\n",
       "  (0.06920364583333334, 0.0),\n",
       "  (0.08580091435185187, 0.0),\n",
       "  (0.09569543981481482, 0.0),\n",
       "  (0.06930522916666668, 0.0),\n",
       "  (0.08592686064814815, 0.0),\n",
       "  (0.0958359101851852, 0.0),\n",
       "  (0.06899164583333334, 0.0),\n",
       "  (0.08553806990740741, 0.0),\n",
       "  (0.09540228425925927, 0.0)]]"
      ]
     },
     "execution_count": 104,
     "metadata": {},
     "output_type": "execute_result"
    }
   ],
   "source": [
    "ensamble([[(0.2,0),(0.1,0),(0.6,0),(0.1,0)]],\n",
    "         [[(0.7,0),(0.15,0),(0.15,0)]],\n",
    "         [[(0,0),(0.2,0),(0.3,0),(0.5,0)],\n",
    "          [(0.3,0),(0.2,0),(0.1,0),(0.4,0)],\n",
    "          [(0.4,0),(0.3,0),(0.2,0),(0.1,0)],\n",
    "          [(0.3,0),(0.3,0),(0.4,0),(0,0)]],\n",
    "          [[(0,0),(1/6,0),(5/6,0)], \n",
    "          [(1/3,0),(1/2,0),(1/6,0)], \n",
    "          [(2/3,0),(1/3,0),(0,0)] \n",
    "             ],5)"
   ]
  },
  {
   "cell_type": "markdown",
   "metadata": {},
   "source": [
    "### DOBLE RENDIJA"
   ]
  },
  {
   "cell_type": "code",
   "execution_count": 101,
   "metadata": {},
   "outputs": [],
   "source": [
    "def doble_ren(num_ren, num_blancos_pared, vector_prob):\n",
    "    paredes = num_ren+1\n",
    "    w = (num_ren*2) + (num_blancos_pared*paredes) +1\n",
    "    V = [[(1,0)]]\n",
    "    for j in range(w-1):\n",
    "        V[0].append((0,0))\n",
    "    \n",
    "    M = [[(0,0)]*w for fila in range(w)]\n",
    "   \n",
    "    for i in range(1, num_ren+1):\n",
    "        M[i][0] = ((1/np.sqrt(num_ren)),0)\n",
    "        \n",
    "    q = num_ren+1\n",
    "    cont = 0\n",
    "    for k in range(1, num_ren+1):\n",
    "        for j in range(q , q+(num_blancos_pared*2)+1):\n",
    "            M[j][k] = vector_prob[cont][0]\n",
    "            cont +=1\n",
    "        q = j-num_blancos_pared+1\n",
    "        cont = 0\n",
    "        \n",
    "    for l in range(num_ren+1, (num_ren*2) + (num_blancos_pared*paredes) +1):\n",
    "        M[l][l] = (1,0)\n",
    "    M = produc_matriz(M,M)\n",
    "    M = matriz_prob(M)\n",
    "    V = accion(M, V)\n",
    "    print('Vector estado final:', V)\n",
    "    labels = []\n",
    "    estado = []\n",
    "    for i in range(len(V[0])):\n",
    "            labels.append('Pto. '+str(i))\n",
    "            estado.append(V[0][i][0])\n",
    "    index = np.arange(len(labels))\n",
    "    plt.bar(index, estado)\n",
    "    plt.xlabel('Estado')\n",
    "    plt.ylabel('Valor')\n",
    "    plt.xticks(index, labels, rotation=30)\n",
    "    plt.title('Evolución dinámica del sistema')\n",
    "    plt.show()\n",
    "    return V"
   ]
  },
  {
   "cell_type": "code",
   "execution_count": 102,
   "metadata": {},
   "outputs": [
    {
     "name": "stdout",
     "output_type": "stream",
     "text": [
      "Vector estado final: [[(0.0, 0.0), (0.0, 0.0), (0.0, 0.0), (0.04545454545454544, 0.0), (0.04545454545454544, 0.0), (0.04545454545454544, 0.0), (0.04545454545454544, 0.0), (0.04545454545454544, 0.0), (0.04545454545454544, 0.0), (0.0, 0.0), (0.18181818181818177, 0.0), (0.0, 0.0), (0.09090909090909088, 0.0), (0.0, 0.0), (0.04545454545454544, 0.0), (0.04545454545454544, 0.0), (0.04545454545454544, 0.0), (0.04545454545454544, 0.0), (0.04545454545454544, 0.0), (0.04545454545454544, 0.0)]]\n"
     ]
    },
    {
     "data": {
      "image/png": "[encoded data removed]",
      "text/plain": [
       "<Figure size 432x288 with 1 Axes>"
      ]
     },
     "metadata": {
      "needs_background": "light"
     },
     "output_type": "display_data"
    },
    {
     "data": {
      "text/plain": [
       "[[(0.0, 0.0),\n",
       "  (0.0, 0.0),\n",
       "  (0.0, 0.0),\n",
       "  (0.04545454545454544, 0.0),\n",
       "  (0.04545454545454544, 0.0),\n",
       "  (0.04545454545454544, 0.0),\n",
       "  (0.04545454545454544, 0.0),\n",
       "  (0.04545454545454544, 0.0),\n",
       "  (0.04545454545454544, 0.0),\n",
       "  (0.0, 0.0),\n",
       "  (0.18181818181818177, 0.0),\n",
       "  (0.0, 0.0),\n",
       "  (0.09090909090909088, 0.0),\n",
       "  (0.0, 0.0),\n",
       "  (0.04545454545454544, 0.0),\n",
       "  (0.04545454545454544, 0.0),\n",
       "  (0.04545454545454544, 0.0),\n",
       "  (0.04545454545454544, 0.0),\n",
       "  (0.04545454545454544, 0.0),\n",
       "  (0.04545454545454544, 0.0)]]"
      ]
     },
     "execution_count": 102,
     "metadata": {},
     "output_type": "execute_result"
    }
   ],
   "source": [
    "doble_ren(2, 5, \n",
    "         [[((1/np.sqrt(22)),(1/np.sqrt(22)))],\n",
    "         [(-(1/np.sqrt(22)),-(1/np.sqrt(22)))], \n",
    "         [(-(1/np.sqrt(22)),(1/np.sqrt(22)))], \n",
    "         [(-(1/np.sqrt(22)),-(1/np.sqrt(22)))],\n",
    "         [((1/np.sqrt(22)),-(1/np.sqrt(22)))], \n",
    "         [(-(1/np.sqrt(22)),-(1/np.sqrt(22)))], \n",
    "         [(-(1/np.sqrt(22)),-(1/np.sqrt(22)))], \n",
    "         [(-(1/np.sqrt(22)),-(1/np.sqrt(22)))], \n",
    "         [((1/np.sqrt(22)),-(1/np.sqrt(22)))], \n",
    "         [((1/np.sqrt(22)),-(1/np.sqrt(22)))],  \n",
    "         [(-(1/np.sqrt(22)),(1/np.sqrt(22)))]   \n",
    "             ])"
   ]
  },
  {
   "cell_type": "code",
   "execution_count": null,
   "metadata": {},
   "outputs": [],
   "source": []
  }
 ],
 "metadata": {
  "kernelspec": {
   "display_name": "Python 3",
   "language": "python",
   "name": "python3"
  },
  "language_info": {
   "codemirror_mode": {
    "name": "ipython",
    "version": 3
   },
   "file_extension": ".py",
   "mimetype": "text/x-python",
   "name": "python",
   "nbconvert_exporter": "python",
   "pygments_lexer": "ipython3",
   "version": "3.7.3"
  }
 },
 "nbformat": 4,
 "nbformat_minor": 4
}
