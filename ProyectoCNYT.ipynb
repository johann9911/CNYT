{
 "cells": [
  {
   "cell_type": "markdown",
   "metadata": {},
   "source": [
    "# EJERCICIOS DEL LIBRO"
   ]
  },
  {
   "cell_type": "markdown",
   "metadata": {},
   "source": [
    "De acuerdo al libro Quantum Computing For Computer Scientists. Se realizaran los ejercicios de programación del capitulo 1 con el lenguaje python."
   ]
  },
  {
   "cell_type": "markdown",
   "metadata": {},
   "source": [
    "## CAPITULO 1"
   ]
  },
  {
   "cell_type": "markdown",
   "metadata": {},
   "source": [
    "### IMPRIMIR COMPLEJOS"
   ]
  },
  {
   "cell_type": "code",
   "execution_count": 2,
   "metadata": {},
   "outputs": [],
   "source": [
    "def imprimir(Cm1):\n",
    "    Cm1 = Cm1[:]\n",
    "    \n",
    "    if Cm1[0]==0:\n",
    "        print(\"Numero complejo :\",str(Cm1[1])+\"i\")\n",
    "    elif Cm1[1]==0:\n",
    "        print(\"Numero complejo :\",Cm1[0])\n",
    "    elif Cm1[1]<0:\n",
    "        print(\"Numero complejo :\",Cm1[0],str(Cm1[1])+\"i\")\n",
    "    else:\n",
    "        print(\"Numero complejo :\",Cm1[0],\"+\"+str(Cm1[1])+\"i\")\n",
    "    \n",
    "    "
   ]
  },
  {
   "cell_type": "markdown",
   "metadata": {},
   "source": [
    "### 1.1 SUMA DE COMPLEJOS"
   ]
  },
  {
   "cell_type": "markdown",
   "metadata": {},
   "source": [
    "Programa que sume dos numeros complejos."
   ]
  },
  {
   "cell_type": "code",
   "execution_count": 3,
   "metadata": {},
   "outputs": [],
   "source": [
    "import math"
   ]
  },
  {
   "cell_type": "code",
   "execution_count": 4,
   "metadata": {},
   "outputs": [],
   "source": [
    "def suma_C(C1,C2):\n",
    "    C1 = C1[:]\n",
    "    C2 = C2[:]\n",
    "    sum_com = ((C1[0]+C2[0]),(C1[1]+C2[1]))\n",
    "    print(\"----------SUMA DE DOS NÚMEROS-------\")\n",
    "    #Numeros\n",
    "    imprimir(C1)\n",
    "    imprimir(C2)\n",
    "    #Resultado\n",
    "    print(\"----------RESULTADO-------\")\n",
    "    imprimir(sum_com)\n",
    "    \n",
    "     #Si alguna otra función necesita multiplicar dos numeros se devuelve el resultado\n",
    "    return sum_com"
   ]
  },
  {
   "cell_type": "code",
   "execution_count": 5,
   "metadata": {},
   "outputs": [
    {
     "name": "stdout",
     "output_type": "stream",
     "text": [
      "----------SUMA DE DOS NÚMEROS-------\n",
      "Numero complejo : 3 +5i\n",
      "Numero complejo : 2i\n",
      "----------RESULTADO-------\n",
      "Numero complejo : 3 +7i\n"
     ]
    },
    {
     "data": {
      "text/plain": [
       "(3, 7)"
      ]
     },
     "execution_count": 5,
     "metadata": {},
     "output_type": "execute_result"
    }
   ],
   "source": [
    "suma_C((3,5),(0,2))"
   ]
  },
  {
   "cell_type": "markdown",
   "metadata": {},
   "source": [
    "#### PRUEBA\n",
    "Se realizo las siguientes pruebas con dos numero complejos\n",
    "\n",
    "Numero 1: $$ 3 +5i $$\n",
    "Numero 2: $$ 2i $$\n",
    "Y se obtuvo como resultado el siguiente numero\n",
    "$$ 3 +7i $$"
   ]
  },
  {
   "cell_type": "markdown",
   "metadata": {},
   "source": [
    "### 1.2 RESTA DE COMPLEJOS"
   ]
  },
  {
   "cell_type": "code",
   "execution_count": 6,
   "metadata": {},
   "outputs": [],
   "source": [
    "def resta_C(C1,C2):\n",
    "    C1 = C1[:]\n",
    "    C2 = C2[:]\n",
    "    resta = ((C1[0]-C2[0]),(C1[1]-C2[1]))\n",
    "    print(\"----------SUMA DE DOS NÚMEROS-------\")\n",
    "    #Numeros\n",
    "    imprimir(C1)\n",
    "    imprimir(C2)\n",
    "    #Resultado\n",
    "    print(\"----------RESULTADO-------\")\n",
    "    imprimir(resta)\n",
    "    \n",
    "     #Si alguna otra función necesita multiplicar dos numeros se devuelve el resultado\n",
    "    return resta"
   ]
  },
  {
   "cell_type": "code",
   "execution_count": 7,
   "metadata": {},
   "outputs": [
    {
     "name": "stdout",
     "output_type": "stream",
     "text": [
      "----------SUMA DE DOS NÚMEROS-------\n",
      "Numero complejo : 3 +5i\n",
      "Numero complejo : 2i\n",
      "----------RESULTADO-------\n",
      "Numero complejo : 3 +3i\n"
     ]
    },
    {
     "data": {
      "text/plain": [
       "(3, 3)"
      ]
     },
     "execution_count": 7,
     "metadata": {},
     "output_type": "execute_result"
    }
   ],
   "source": [
    "resta_C((3,5),(0,2))"
   ]
  },
  {
   "cell_type": "markdown",
   "metadata": {},
   "source": [
    "#### PRUEBA\n",
    "Se realizo las siguientes pruebas con dos numero complejos\n",
    "\n",
    "Numero 1: $$ 3 +5i $$\n",
    "Numero 2: $$ 2i $$\n",
    "Y se obtuvo como resultado el siguiente numero\n",
    "$$ 3 +3i $$"
   ]
  },
  {
   "cell_type": "markdown",
   "metadata": {},
   "source": [
    "### 1.3 MULTIPLICACION DE COMPLEJOS"
   ]
  },
  {
   "cell_type": "markdown",
   "metadata": {},
   "source": [
    "Programa que multiplique dos numeros complejos"
   ]
  },
  {
   "cell_type": "code",
   "execution_count": 8,
   "metadata": {},
   "outputs": [],
   "source": [
    "def Mul_C(C1,C2):\n",
    "    C1 = C1[:]\n",
    "    C2 = C2[:]\n",
    "    Real = (C1[0]*C2[0])-(C1[1]*C2[1])\n",
    "    imag = (C1[0]*C2[1])+(C2[0]*C1[1])\n",
    "    Resul = (Real,imag)\n",
    "    print(\"----------MULTIPLICACIÓN DE DOS NÚMEROS-------\")\n",
    "    #Numeros\n",
    "    imprimir(C1)\n",
    "    imprimir(C2)\n",
    "    #Resultado\n",
    "    print(\"----------RESULTADO-------\")\n",
    "    imprimir(Resul)\n",
    "    \n",
    "    \n",
    "    #Si alguna otra función necesita multiplicar dos numeros se devuelve el resultado\n",
    "    return Resul"
   ]
  },
  {
   "cell_type": "code",
   "execution_count": 9,
   "metadata": {},
   "outputs": [
    {
     "name": "stdout",
     "output_type": "stream",
     "text": [
      "----------MULTIPLICACIÓN DE DOS NÚMEROS-------\n",
      "Numero complejo : -1\n",
      "Numero complejo : 1 +3i\n",
      "----------RESULTADO-------\n",
      "Numero complejo : -1 -3i\n"
     ]
    },
    {
     "data": {
      "text/plain": [
       "(-1, -3)"
      ]
     },
     "execution_count": 9,
     "metadata": {},
     "output_type": "execute_result"
    }
   ],
   "source": [
    "Mul_C((-1,0),(1,3))"
   ]
  },
  {
   "cell_type": "markdown",
   "metadata": {},
   "source": [
    "#### PRUEBA\n",
    "Se realizo las siguientes pruebas con dos numero complejos\n",
    "\n",
    "Numero 1: $$ -1 $$\n",
    "Numero 2: $$ 1 +3i $$\n",
    "Y se obtuvo como resultado el siguiente numero\n",
    "$$ -1 -3i $$"
   ]
  },
  {
   "cell_type": "markdown",
   "metadata": {},
   "source": [
    "### 1.4 CONJUGADO DE UN NUMERO COMPLEJO"
   ]
  },
  {
   "cell_type": "markdown",
   "metadata": {},
   "source": [
    "Programa que conjugue un numero complejo"
   ]
  },
  {
   "cell_type": "code",
   "execution_count": 10,
   "metadata": {},
   "outputs": [],
   "source": [
    "def Conju_C(C1):\n",
    "    C1 = C1[:]\n",
    "    #Conjugado\n",
    "    Resul = (C1[0],-C1[1])\n",
    "    \n",
    "    print(\"----------CONJUGADO DE UN NÚMERO-------\")\n",
    "    #Numeros\n",
    "    imprimir(C1)\n",
    "    #Resultado\n",
    "    print(\"----------RESULTADO-------\")\n",
    "    imprimir(Resul)\n",
    "        \n",
    "    return Resul"
   ]
  },
  {
   "cell_type": "code",
   "execution_count": 11,
   "metadata": {},
   "outputs": [
    {
     "name": "stdout",
     "output_type": "stream",
     "text": [
      "----------CONJUGADO DE UN NÚMERO-------\n",
      "Numero complejo : -5 +4i\n",
      "----------RESULTADO-------\n",
      "Numero complejo : -5 -4i\n"
     ]
    },
    {
     "data": {
      "text/plain": [
       "(-5, -4)"
      ]
     },
     "execution_count": 11,
     "metadata": {},
     "output_type": "execute_result"
    }
   ],
   "source": [
    "Conju_C((-5,4))"
   ]
  },
  {
   "cell_type": "markdown",
   "metadata": {},
   "source": [
    "#### PRUEBA\n",
    "Se realizo las siguientes pruebas con un numero complejos\n",
    "\n",
    "Numero : $$ -5 +4i $$\n",
    "Y se obtuvo como resultado el siguiente numero\n",
    "$$ -5 -4i $$"
   ]
  },
  {
   "cell_type": "markdown",
   "metadata": {},
   "source": [
    "### 1.5 MODULO NUMERO COMPLEJO"
   ]
  },
  {
   "cell_type": "markdown",
   "metadata": {},
   "source": [
    "Programa que muestre el modulo de un numero comlejo"
   ]
  },
  {
   "cell_type": "code",
   "execution_count": 12,
   "metadata": {},
   "outputs": [],
   "source": [
    "def Modu_C(C1):\n",
    "    C1 = C1[:]\n",
    "    Resul = math.sqrt(C1[0]**2 + C1[1]**2)\n",
    "    print(\"----------MODULO DE UN NÚMERO-------\")\n",
    "    #Numeros\n",
    "    imprimir(C1)\n",
    "    #Resultado\n",
    "    print(\"----------RESULTADO-------\")\n",
    "    print(Resul)\n",
    "    \n",
    "    return Resul"
   ]
  },
  {
   "cell_type": "code",
   "execution_count": 13,
   "metadata": {},
   "outputs": [
    {
     "name": "stdout",
     "output_type": "stream",
     "text": [
      "----------MODULO DE UN NÚMERO-------\n",
      "Numero complejo : -5 +4i\n",
      "----------RESULTADO-------\n",
      "6.4031242374328485\n"
     ]
    },
    {
     "data": {
      "text/plain": [
       "6.4031242374328485"
      ]
     },
     "execution_count": 13,
     "metadata": {},
     "output_type": "execute_result"
    }
   ],
   "source": [
    "Modu_C([-5, 4])"
   ]
  },
  {
   "cell_type": "markdown",
   "metadata": {},
   "source": [
    "#### PRUEBA\n",
    "Se realizo las siguientes pruebas con un numero complejos\n",
    "\n",
    "Numero : $$ -5 +4i$$\n",
    "Y se obtuvo como resultado el siguiente numero\n",
    "$$ 6.4031242374328485 $$"
   ]
  },
  {
   "cell_type": "markdown",
   "metadata": {},
   "source": [
    "### 1.6 DIVISIÓN NÚMEROS COMPLEJOS"
   ]
  },
  {
   "cell_type": "markdown",
   "metadata": {},
   "source": [
    "Programa que Divida dos numeros complejos"
   ]
  },
  {
   "cell_type": "code",
   "execution_count": 14,
   "metadata": {},
   "outputs": [],
   "source": [
    "def Div_C(C1, C2):\n",
    "    \n",
    "    if not(C2[0]==0 and C2[1]==0):\n",
    "        Conjugado = Conju_C(C2)\n",
    "        Numerador = Mul_C(C1, Conjugado)\n",
    "        Denominador = Mul_C(C2, Conjugado)\n",
    "        Resul = (Numerador,Denominador)\n",
    "        print(\"----------DIVISION DE DOS NÚMEROS-------\")\n",
    "        #Numeros\n",
    "        imprimir(C1)\n",
    "        imprimir(C2)\n",
    "        #Resultado\n",
    "        print(\"----------RESULTADO-------\")\n",
    "        print(\"Numerador----> \")\n",
    "        imprimir(Resul[0])\n",
    "        print(\"Denominador----> \")\n",
    "        imprimir(Resul[1])\n",
    "        return Resul\n",
    "    else:\n",
    "        return False"
   ]
  },
  {
   "cell_type": "code",
   "execution_count": 15,
   "metadata": {},
   "outputs": [
    {
     "name": "stdout",
     "output_type": "stream",
     "text": [
      "----------CONJUGADO DE UN NÚMERO-------\n",
      "Numero complejo : 1 +3i\n",
      "----------RESULTADO-------\n",
      "Numero complejo : 1 -3i\n",
      "----------MULTIPLICACIÓN DE DOS NÚMEROS-------\n",
      "Numero complejo : -5 +4i\n",
      "Numero complejo : 1 -3i\n",
      "----------RESULTADO-------\n",
      "Numero complejo : 7 +19i\n",
      "----------MULTIPLICACIÓN DE DOS NÚMEROS-------\n",
      "Numero complejo : 1 +3i\n",
      "Numero complejo : 1 -3i\n",
      "----------RESULTADO-------\n",
      "Numero complejo : 10\n",
      "----------DIVISION DE DOS NÚMEROS-------\n",
      "Numero complejo : -5 +4i\n",
      "Numero complejo : 1 +3i\n",
      "----------RESULTADO-------\n",
      "Numerador----> \n",
      "Numero complejo : 7 +19i\n",
      "Denominador----> \n",
      "Numero complejo : 10\n"
     ]
    },
    {
     "data": {
      "text/plain": [
       "((7, 19), (10, 0))"
      ]
     },
     "execution_count": 15,
     "metadata": {},
     "output_type": "execute_result"
    }
   ],
   "source": [
    "Div_C((-5,4),(1,3))"
   ]
  },
  {
   "cell_type": "markdown",
   "metadata": {},
   "source": [
    "#### PRUEBA\n",
    "Se realizo las siguientes pruebas con dos numero complejos\n",
    "\n",
    "$$ -5 +4i  /  2i  $$\n",
    "Y se obtuvo como resultado el siguiente numero\n",
    "$$ 7 +19i  /  10 $$"
   ]
  },
  {
   "cell_type": "markdown",
   "metadata": {},
   "source": [
    "### 1.7 FORMA RECTAGULAR A POLAR"
   ]
  },
  {
   "cell_type": "markdown",
   "metadata": {},
   "source": [
    "Programa que muestre la forma polar de un numero rectangular dado"
   ]
  },
  {
   "cell_type": "code",
   "execution_count": 16,
   "metadata": {},
   "outputs": [],
   "source": [
    "def Rec_Polar(C1):\n",
    "    p = Modu_C(C1)\n",
    "    Teta = math.atan2(C1[1],C1[0])\n",
    "    Resul = [p, Teta]\n",
    "    print(\"----------FORMA RECTANGULAR A POLAR-------\")\n",
    "    #Numeros\n",
    "    imprimir(C1)\n",
    "    #Resultado\n",
    "    print(\"----------RESULTADO-------\")\n",
    "        \n",
    "    print(\"Forma polar: (\",Resul[0],\",\",Resul[1],\")\" )"
   ]
  },
  {
   "cell_type": "code",
   "execution_count": 17,
   "metadata": {},
   "outputs": [
    {
     "name": "stdout",
     "output_type": "stream",
     "text": [
      "----------MODULO DE UN NÚMERO-------\n",
      "Numero complejo : -2 -1i\n",
      "----------RESULTADO-------\n",
      "2.23606797749979\n",
      "----------FORMA RECTANGULAR A POLAR-------\n",
      "Numero complejo : -2 -1i\n",
      "----------RESULTADO-------\n",
      "Forma polar: ( 2.23606797749979 , -2.677945044588987 )\n"
     ]
    }
   ],
   "source": [
    "Rec_Polar([-2, -1])"
   ]
  },
  {
   "cell_type": "markdown",
   "metadata": {},
   "source": [
    "#### PRUEBA\n",
    "Se realizo las siguientes pruebas con dos numero complejos\n",
    "\n",
    "$$ -2 -1i  $$\n",
    "Y se obtuvo como resultado el siguiente numero\n",
    "$$ ( 2.23606797749979 , -2.677945044588987 ) $$"
   ]
  },
  {
   "cell_type": "markdown",
   "metadata": {},
   "source": [
    "### 1.8 FORMA POLAR A RECTANGULAR"
   ]
  },
  {
   "cell_type": "markdown",
   "metadata": {},
   "source": [
    "Programa que muestre la forma rectangular de un numero con forma polar dado"
   ]
  },
  {
   "cell_type": "code",
   "execution_count": 18,
   "metadata": {},
   "outputs": [],
   "source": [
    "def Polar_Rec(C1):\n",
    "    print(\"----------FORMA RECTANGULAR A POLAR-------\")\n",
    "    a = C1[0] * math.cos(C1[1])\n",
    "    b = C1[0] * math.sin(C1[1])\n",
    "    print(\"p = \", C1[0])\n",
    "    print(\"Teta = \",C1[1])\n",
    "    \n",
    "    print(\"----------RESULTADO-------\")\n",
    "    print(\"El resultado en forma rectangular es: (\",a,\",\",b,\")\" )\n",
    "    return (a,b)"
   ]
  },
  {
   "cell_type": "code",
   "execution_count": 19,
   "metadata": {},
   "outputs": [
    {
     "name": "stdout",
     "output_type": "stream",
     "text": [
      "----------FORMA RECTANGULAR A POLAR-------\n",
      "p =  5.39\n",
      "Teta =  0.38\n",
      "----------RESULTADO-------\n",
      "El resultado en forma rectangular es: ( 5.0055023857573895 , 1.9992613301359765 )\n"
     ]
    },
    {
     "data": {
      "text/plain": [
       "(5.0055023857573895, 1.9992613301359765)"
      ]
     },
     "execution_count": 19,
     "metadata": {},
     "output_type": "execute_result"
    }
   ],
   "source": [
    "Polar_Rec([5.39, 0.38])"
   ]
  },
  {
   "cell_type": "markdown",
   "metadata": {},
   "source": [
    "#### PRUEBA\n",
    "Se realizo las siguientes pruebas con dos numero complejos\n",
    "\n",
    "$$ p =  5.39 $$\n",
    "$$ Teta =  0.38  $$\n",
    "Y se obtuvo como resultado el siguiente numero\n",
    "$$ ( 5.0055023857573895 , 1.9992613301359765 ) $$"
   ]
  },
  {
   "cell_type": "markdown",
   "metadata": {},
   "source": [
    "## CAPITULO 2"
   ]
  },
  {
   "cell_type": "markdown",
   "metadata": {},
   "source": [
    "### 0. IMPRIMIR VECTORES COMPLEJOS"
   ]
  },
  {
   "cell_type": "code",
   "execution_count": 20,
   "metadata": {},
   "outputs": [],
   "source": [
    "def imprimir_vec(V1, tam):\n",
    "    print(\"Vector complejo:\")\n",
    "    for j in range(tam):\n",
    "        if V1[j][0]==0:\n",
    "            print(\"|  \"+str(V1[j][1])+\"i    |  \")\n",
    "        elif V1[j][1]==0:\n",
    "            print(\"|   \"+str(V1[j][0])+\"    |\")\n",
    "        else:\n",
    "            print(\"|(\",V1[j][0],\"+\"+str(V1[j][1])+\"i )|  \")"
   ]
  },
  {
   "cell_type": "markdown",
   "metadata": {},
   "source": [
    "### 1.ADICION DE VECTORES COMPLEJOS."
   ]
  },
  {
   "cell_type": "code",
   "execution_count": 21,
   "metadata": {},
   "outputs": [],
   "source": [
    "def adi_vectores(V1, V2):\n",
    "    ## Se define un tamaño y una lista que guarde el resultado componene\n",
    "    ## a componente\n",
    "    tam = len(V1)\n",
    "    Resul = []\n",
    "    if tam==len(V2):\n",
    "        for i in range(tam):\n",
    "            Resul.append(suma_C(V1[i], V2[i]))\n",
    "        print(\"----------Adición de vectores complejos-------\")\n",
    "        imprimir_vec(V1, len(V1))\n",
    "        imprimir_vec(V2, len(V2))\n",
    "        print(\"El resultado: \")\n",
    "        imprimir_vec(Resul, len(Resul))\n",
    "              \n",
    "        return Resul"
   ]
  },
  {
   "cell_type": "code",
   "execution_count": 22,
   "metadata": {},
   "outputs": [
    {
     "name": "stdout",
     "output_type": "stream",
     "text": [
      "----------SUMA DE DOS NÚMEROS-------\n",
      "Numero complejo : 8 +3i\n",
      "Numero complejo : 8 -3i\n",
      "----------RESULTADO-------\n",
      "Numero complejo : 16\n",
      "----------SUMA DE DOS NÚMEROS-------\n",
      "Numero complejo : -1 -4i\n",
      "Numero complejo : 2 +5i\n",
      "----------RESULTADO-------\n",
      "Numero complejo : 1 +1i\n",
      "----------SUMA DE DOS NÚMEROS-------\n",
      "Numero complejo : -9i\n",
      "Numero complejo : 3\n",
      "----------RESULTADO-------\n",
      "Numero complejo : 3 -9i\n",
      "----------Adición de vectores complejos-------\n",
      "Vector complejo:\n",
      "|( 8 +3i )|  \n",
      "|( -1 +-4i )|  \n",
      "|  -9i    |  \n",
      "Vector complejo:\n",
      "|( 8 +-3i )|  \n",
      "|( 2 +5i )|  \n",
      "|   3    |\n",
      "El resultado: \n",
      "Vector complejo:\n",
      "|   16    |\n",
      "|( 1 +1i )|  \n",
      "|( 3 +-9i )|  \n"
     ]
    },
    {
     "data": {
      "text/plain": [
       "[(16, 0), (1, 1), (3, -9)]"
      ]
     },
     "execution_count": 22,
     "metadata": {},
     "output_type": "execute_result"
    }
   ],
   "source": [
    "adi_vectores([(8, 3), (-1, -4), (0,-9)],[(8, -3),(2, 5), (3,0)])"
   ]
  },
  {
   "cell_type": "markdown",
   "metadata": {},
   "source": [
    "### 2. MULTIPLICACION DE ESCALAR POR VECTOR COMPLEJO."
   ]
  },
  {
   "cell_type": "code",
   "execution_count": 23,
   "metadata": {},
   "outputs": [],
   "source": [
    "def Mul_esc_vect(e, V1):\n",
    "    Resul = []\n",
    "    for i in range(len(V1)):\n",
    "        Resul.append(Mul_C(e,V1[i]))\n",
    "    \n",
    "    \n",
    "    print(\"----------Multiplicacion de escalar por vector complejo-------\")\n",
    "    print(\"Escalar\")\n",
    "    imprimir(e)\n",
    "    imprimir_vec(V1, len(V1))\n",
    "    print(\"El resultado: \")\n",
    "    imprimir_vec(Resul, len(Resul))\n",
    "    \n",
    "    return Resul"
   ]
  },
  {
   "cell_type": "code",
   "execution_count": 24,
   "metadata": {},
   "outputs": [
    {
     "name": "stdout",
     "output_type": "stream",
     "text": [
      "----------MULTIPLICACIÓN DE DOS NÚMEROS-------\n",
      "Numero complejo : -1 +1i\n",
      "Numero complejo : -2 +5i\n",
      "----------RESULTADO-------\n",
      "Numero complejo : -3 -7i\n",
      "----------MULTIPLICACIÓN DE DOS NÚMEROS-------\n",
      "Numero complejo : -1 +1i\n",
      "Numero complejo : -1 -1i\n",
      "----------RESULTADO-------\n",
      "Numero complejo : 2\n",
      "----------MULTIPLICACIÓN DE DOS NÚMEROS-------\n",
      "Numero complejo : -1 +1i\n",
      "Numero complejo : 2 -9i\n",
      "----------RESULTADO-------\n",
      "Numero complejo : 7 +11i\n",
      "----------Multiplicacion de escalar por vector complejo-------\n",
      "Escalar\n",
      "Numero complejo : -1 +1i\n",
      "Vector complejo:\n",
      "|( -2 +5i )|  \n",
      "|( -1 +-1i )|  \n",
      "|( 2 +-9i )|  \n",
      "El resultado: \n",
      "Vector complejo:\n",
      "|( -3 +-7i )|  \n",
      "|   2    |\n",
      "|( 7 +11i )|  \n"
     ]
    },
    {
     "data": {
      "text/plain": [
       "[(-3, -7), (2, 0), (7, 11)]"
      ]
     },
     "execution_count": 24,
     "metadata": {},
     "output_type": "execute_result"
    }
   ],
   "source": [
    "Mul_esc_vect((-1,1) , [(-2,5),(-1,-1),(2,-9)])"
   ]
  },
  {
   "cell_type": "markdown",
   "metadata": {},
   "source": [
    "### 3. INVERSO ADITIVO DE VECTOR COMPLEJO"
   ]
  },
  {
   "cell_type": "code",
   "execution_count": 25,
   "metadata": {},
   "outputs": [],
   "source": [
    "def inve_vector(V1):\n",
    "    Resul = Mul_esc_vect((-1,0),V1)\n",
    "    return Resul\n",
    "    "
   ]
  },
  {
   "cell_type": "code",
   "execution_count": 26,
   "metadata": {},
   "outputs": [
    {
     "name": "stdout",
     "output_type": "stream",
     "text": [
      "----------MULTIPLICACIÓN DE DOS NÚMEROS-------\n",
      "Numero complejo : -1\n",
      "Numero complejo : -5 +2i\n",
      "----------RESULTADO-------\n",
      "Numero complejo : 5 -2i\n",
      "----------MULTIPLICACIÓN DE DOS NÚMEROS-------\n",
      "Numero complejo : -1\n",
      "Numero complejo : 3\n",
      "----------RESULTADO-------\n",
      "Numero complejo : -3\n",
      "----------MULTIPLICACIÓN DE DOS NÚMEROS-------\n",
      "Numero complejo : -1\n",
      "Numero complejo : -1i\n",
      "----------RESULTADO-------\n",
      "Numero complejo : 1i\n",
      "----------Multiplicacion de escalar por vector complejo-------\n",
      "Escalar\n",
      "Numero complejo : -1\n",
      "Vector complejo:\n",
      "|( -5 +2i )|  \n",
      "|   3    |\n",
      "|  -1i    |  \n",
      "El resultado: \n",
      "Vector complejo:\n",
      "|( 5 +-2i )|  \n",
      "|   -3    |\n",
      "|  1i    |  \n"
     ]
    },
    {
     "data": {
      "text/plain": [
       "[(5, -2), (-3, 0), (0, 1)]"
      ]
     },
     "execution_count": 26,
     "metadata": {},
     "output_type": "execute_result"
    }
   ],
   "source": [
    "inve_vector([(-5, 2),(3, 0),(0, -1)])"
   ]
  },
  {
   "cell_type": "markdown",
   "metadata": {},
   "source": [
    "### 0.2 IMPRIMIR MATRICES"
   ]
  },
  {
   "cell_type": "code",
   "execution_count": 27,
   "metadata": {},
   "outputs": [],
   "source": [
    "def imprimir_mat(V1, fila1, columna1):\n",
    "    print(\"Matriz compleja:\")\n",
    "    for i in range(fila1):\n",
    "            for j in range(columna1):\n",
    "                print(\"|(\",V1[i][j][0],\"+\"+str(V1[i][j][1])+\"i )| \", end=\"\")\n",
    "            print(\"\")"
   ]
  },
  {
   "cell_type": "markdown",
   "metadata": {},
   "source": [
    "### 4. SUMA DE MATRICES COMPLEJAS"
   ]
  },
  {
   "cell_type": "code",
   "execution_count": 28,
   "metadata": {},
   "outputs": [],
   "source": [
    "def Adi_matrices(V1, V2):\n",
    "    fila1 = len(V1)\n",
    "    columna1 = len(V1[0])\n",
    "    fila2 = len(V2)\n",
    "    columna2 = len(V2[0])\n",
    "    if fila1==fila2 and columna1==columna2:\n",
    "        Resul = []\n",
    "        for i in range(fila1):\n",
    "            Resul.append([])\n",
    "            for j in range(columna1):\n",
    "                Resul[i].append(suma_C(V1[i][j], V2[i][j]))\n",
    "                \n",
    "        print(\"----------Adición de matrices complejos.-------\")\n",
    "        imprimir_mat(V1,fila1, columna1)\n",
    "        imprimir_mat(V2,fila2, columna2)\n",
    "        print(\"El resultado: \")\n",
    "        imprimir_mat(Resul, fila1, columna1)\n",
    "        \n",
    "    \n",
    "    return Resul\n",
    "    \n",
    "    \n",
    "    "
   ]
  },
  {
   "cell_type": "code",
   "execution_count": 29,
   "metadata": {},
   "outputs": [
    {
     "name": "stdout",
     "output_type": "stream",
     "text": [
      "----------SUMA DE DOS NÚMEROS-------\n",
      "Numero complejo : -8 -3i\n",
      "Numero complejo : -7 -2i\n",
      "----------RESULTADO-------\n",
      "Numero complejo : -15 -5i\n",
      "----------SUMA DE DOS NÚMEROS-------\n",
      "Numero complejo : -6 -4i\n",
      "Numero complejo : -4 -2i\n",
      "----------RESULTADO-------\n",
      "Numero complejo : -10 -6i\n",
      "----------SUMA DE DOS NÚMEROS-------\n",
      "Numero complejo : -4i\n",
      "Numero complejo : 7 +7i\n",
      "----------RESULTADO-------\n",
      "Numero complejo : 7 +3i\n",
      "----------SUMA DE DOS NÚMEROS-------\n",
      "Numero complejo : -1 +8i\n",
      "Numero complejo : 5 +9i\n",
      "----------RESULTADO-------\n",
      "Numero complejo : 4 +17i\n",
      "----------SUMA DE DOS NÚMEROS-------\n",
      "Numero complejo : 6 -10i\n",
      "Numero complejo : 3i\n",
      "----------RESULTADO-------\n",
      "Numero complejo : 6 -7i\n",
      "----------SUMA DE DOS NÚMEROS-------\n",
      "Numero complejo : 8 -5i\n",
      "Numero complejo : 6 -5i\n",
      "----------RESULTADO-------\n",
      "Numero complejo : 14 -10i\n",
      "----------SUMA DE DOS NÚMEROS-------\n",
      "Numero complejo : 4\n",
      "Numero complejo : 1 +5i\n",
      "----------RESULTADO-------\n",
      "Numero complejo : 5 +5i\n",
      "----------SUMA DE DOS NÚMEROS-------\n",
      "Numero complejo : 8 +5i\n",
      "Numero complejo : -6 -6i\n",
      "----------RESULTADO-------\n",
      "Numero complejo : 2 -1i\n",
      "----------SUMA DE DOS NÚMEROS-------\n",
      "Numero complejo : -7 -9i\n",
      "Numero complejo : 5 +8i\n",
      "----------RESULTADO-------\n",
      "Numero complejo : -2 -1i\n",
      "----------Adición de matrices complejos.-------\n",
      "Matriz compleja:\n",
      "|( -8 +-3i )| |( -6 +-4i )| |( 0 +-4i )| \n",
      "|( -1 +8i )| |( 6 +-10i )| |( 8 +-5i )| \n",
      "|( 4 +0i )| |( 8 +5i )| |( -7 +-9i )| \n",
      "Matriz compleja:\n",
      "|( -7 +-2i )| |( -4 +-2i )| |( 7 +7i )| \n",
      "|( 5 +9i )| |( 0 +3i )| |( 6 +-5i )| \n",
      "|( 1 +5i )| |( -6 +-6i )| |( 5 +8i )| \n",
      "El resultado: \n",
      "Matriz compleja:\n",
      "|( -15 +-5i )| |( -10 +-6i )| |( 7 +3i )| \n",
      "|( 4 +17i )| |( 6 +-7i )| |( 14 +-10i )| \n",
      "|( 5 +5i )| |( 2 +-1i )| |( -2 +-1i )| \n"
     ]
    },
    {
     "data": {
      "text/plain": [
       "[[(-15, -5), (-10, -6), (7, 3)],\n",
       " [(4, 17), (6, -7), (14, -10)],\n",
       " [(5, 5), (2, -1), (-2, -1)]]"
      ]
     },
     "execution_count": 29,
     "metadata": {},
     "output_type": "execute_result"
    }
   ],
   "source": [
    "Adi_matrices([[(-8,-3), (-6,-4), (0 ,-4)],[(-1,8), (6,-10),(8,-5)],[(4,0),(8,5),(-7,-9)]],[[(-7, -2),(-4, -2),(7,7)],[(5,9),(0,3),(6,-5)],[(1,5),(-6,-6),(5,8)]])"
   ]
  },
  {
   "cell_type": "markdown",
   "metadata": {},
   "source": [
    "### 5. MULTIPLICACION DE ESCALAR POR MATRIZ COMPLEJA"
   ]
  },
  {
   "cell_type": "code",
   "execution_count": 30,
   "metadata": {},
   "outputs": [],
   "source": [
    "def Mul_esc_matriz(e, V):\n",
    "    fila1 = len(V)\n",
    "    columna1 = len(V[0])\n",
    "    Resul = []\n",
    "    for i in range(fila1):\n",
    "        Resul.append([])\n",
    "        for j in range(columna1):\n",
    "            Resul[i].append(Mul_C(e,V[i][j]))\n",
    "    print(\"----------Multiplicación escalar de matrices complejas-------\")\n",
    "    \n",
    "    imprimir_mat(V,fila1, columna1)\n",
    "    print(\"El resultado: \")\n",
    "    imprimir_mat(Resul, fila1, columna1)\n",
    "        \n",
    "    return Resul\n",
    "                "
   ]
  },
  {
   "cell_type": "code",
   "execution_count": 31,
   "metadata": {},
   "outputs": [
    {
     "name": "stdout",
     "output_type": "stream",
     "text": [
      "----------MULTIPLICACIÓN DE DOS NÚMEROS-------\n",
      "Numero complejo : -2 +3i\n",
      "Numero complejo : 3 -2i\n",
      "----------RESULTADO-------\n",
      "Numero complejo : 13i\n",
      "----------MULTIPLICACIÓN DE DOS NÚMEROS-------\n",
      "Numero complejo : -2 +3i\n",
      "Numero complejo : 8 -4i\n",
      "----------RESULTADO-------\n",
      "Numero complejo : -4 +32i\n",
      "----------MULTIPLICACIÓN DE DOS NÚMEROS-------\n",
      "Numero complejo : -2 +3i\n",
      "Numero complejo : 4 -10i\n",
      "----------RESULTADO-------\n",
      "Numero complejo : 22 +32i\n",
      "----------MULTIPLICACIÓN DE DOS NÚMEROS-------\n",
      "Numero complejo : -2 +3i\n",
      "Numero complejo : -2 -8i\n",
      "----------RESULTADO-------\n",
      "Numero complejo : 28 +10i\n",
      "----------Multiplicación escalar de matrices complejas-------\n",
      "Matriz compleja:\n",
      "|( 3 +-2i )| |( 8 +-4i )| \n",
      "|( 4 +-10i )| |( -2 +-8i )| \n",
      "El resultado: \n",
      "Matriz compleja:\n",
      "|( 0 +13i )| |( -4 +32i )| \n",
      "|( 22 +32i )| |( 28 +10i )| \n"
     ]
    },
    {
     "data": {
      "text/plain": [
       "[[(0, 13), (-4, 32)], [(22, 32), (28, 10)]]"
      ]
     },
     "execution_count": 31,
     "metadata": {},
     "output_type": "execute_result"
    }
   ],
   "source": [
    "Mul_esc_matriz((-2,3), [[(3,-2),(8,-4)],[(4,-10),(-2,-8)]])"
   ]
  },
  {
   "cell_type": "markdown",
   "metadata": {},
   "source": [
    "### 6. INVERSO ADITIVO DE MATRIZ COMPLEJA"
   ]
  },
  {
   "cell_type": "code",
   "execution_count": 32,
   "metadata": {},
   "outputs": [],
   "source": [
    "def inv_adi(M1):\n",
    "    Resul = Mul_esc_matriz((-1,0), M1)\n",
    "    return Resul"
   ]
  },
  {
   "cell_type": "code",
   "execution_count": 33,
   "metadata": {},
   "outputs": [
    {
     "name": "stdout",
     "output_type": "stream",
     "text": [
      "----------MULTIPLICACIÓN DE DOS NÚMEROS-------\n",
      "Numero complejo : -1\n",
      "Numero complejo : 7 +3i\n",
      "----------RESULTADO-------\n",
      "Numero complejo : -7 -3i\n",
      "----------MULTIPLICACIÓN DE DOS NÚMEROS-------\n",
      "Numero complejo : -1\n",
      "Numero complejo : -1 +7i\n",
      "----------RESULTADO-------\n",
      "Numero complejo : 1 -7i\n",
      "----------MULTIPLICACIÓN DE DOS NÚMEROS-------\n",
      "Numero complejo : -1\n",
      "Numero complejo : -9 -4i\n",
      "----------RESULTADO-------\n",
      "Numero complejo : 9 +4i\n",
      "----------MULTIPLICACIÓN DE DOS NÚMEROS-------\n",
      "Numero complejo : -1\n",
      "Numero complejo : -7 -9i\n",
      "----------RESULTADO-------\n",
      "Numero complejo : 7 +9i\n",
      "----------Multiplicación escalar de matrices complejas-------\n",
      "Matriz compleja:\n",
      "|( 7 +3i )| |( -1 +7i )| \n",
      "|( -9 +-4i )| |( -7 +-9i )| \n",
      "El resultado: \n",
      "Matriz compleja:\n",
      "|( -7 +-3i )| |( 1 +-7i )| \n",
      "|( 9 +4i )| |( 7 +9i )| \n"
     ]
    },
    {
     "data": {
      "text/plain": [
       "[[(-7, -3), (1, -7)], [(9, 4), (7, 9)]]"
      ]
     },
     "execution_count": 33,
     "metadata": {},
     "output_type": "execute_result"
    }
   ],
   "source": [
    "inv_adi([[(7,3),(-1,7)],[(-9,-4),(-7,-9)]])"
   ]
  },
  {
   "cell_type": "markdown",
   "metadata": {},
   "source": [
    "### 7. MATRIZ TRANSPUESTA"
   ]
  },
  {
   "cell_type": "code",
   "execution_count": 34,
   "metadata": {},
   "outputs": [],
   "source": [
    "def matriz_tran(M1):\n",
    "    fila1 = len(M1)\n",
    "    columna1 = len(M1[0])\n",
    "    Resul = []\n",
    "    for i in range(columna1):\n",
    "        aux = []\n",
    "        for j in range(fila1):\n",
    "            aux.append(M1[j][i])\n",
    "        Resul.append(aux)\n",
    "    print(\"----------Transpuesta de matriz compleja-------\")\n",
    "    \n",
    "    imprimir_mat(M1,fila1, columna1)\n",
    "    print(\"El resultado: \")\n",
    "    imprimir_mat(Resul, columna1 , fila1 )        \n",
    "    return Resul\n",
    "    "
   ]
  },
  {
   "cell_type": "code",
   "execution_count": 35,
   "metadata": {},
   "outputs": [
    {
     "name": "stdout",
     "output_type": "stream",
     "text": [
      "----------Transpuesta de matriz compleja-------\n",
      "Matriz compleja:\n",
      "|( 5 +9i )| |( -7 +-5i )| |( -1 +-4i )| \n",
      "|( 8 +2i )| |( -3 +-7i )| |( 7 +-8i )| \n",
      "El resultado: \n",
      "Matriz compleja:\n",
      "|( 5 +9i )| |( 8 +2i )| \n",
      "|( -7 +-5i )| |( -3 +-7i )| \n",
      "|( -1 +-4i )| |( 7 +-8i )| \n"
     ]
    },
    {
     "data": {
      "text/plain": [
       "[[(5, 9), (8, 2)], [(-7, -5), (-3, -7)], [(-1, -4), (7, -8)]]"
      ]
     },
     "execution_count": 35,
     "metadata": {},
     "output_type": "execute_result"
    }
   ],
   "source": [
    "matriz_tran([[(5, 9), (-7, -5), (-1,-4)], [(8,2),(-3,-7), (7, -8)]])"
   ]
  },
  {
   "cell_type": "markdown",
   "metadata": {},
   "source": [
    "### 8. CONJUGADA DE UNA MATRIZ COMPLEJA"
   ]
  },
  {
   "cell_type": "code",
   "execution_count": 36,
   "metadata": {},
   "outputs": [],
   "source": [
    "def Matriz_conju(M1):\n",
    "    fila1 = len(M1)\n",
    "    columna1 = len(M1[0])\n",
    "    Resul = []\n",
    "    for i in range(fila1):\n",
    "        Resul.append([])\n",
    "        for j in range(columna1):\n",
    "            Resul[i].append(Conju_C(M1[i][j]))\n",
    "            \n",
    "    print(\"----------Conjugada de matriz compleja-------\")\n",
    "    imprimir_mat(M1,fila1, columna1)\n",
    "    print(\"El resultado: \")\n",
    "    imprimir_mat(Resul,fila1 ,columna1)        \n",
    "    return Resul\n"
   ]
  },
  {
   "cell_type": "code",
   "execution_count": 37,
   "metadata": {},
   "outputs": [
    {
     "name": "stdout",
     "output_type": "stream",
     "text": [
      "----------CONJUGADO DE UN NÚMERO-------\n",
      "Numero complejo : -6 +1i\n",
      "----------RESULTADO-------\n",
      "Numero complejo : -6 -1i\n",
      "----------CONJUGADO DE UN NÚMERO-------\n",
      "Numero complejo : 3 +8i\n",
      "----------RESULTADO-------\n",
      "Numero complejo : 3 -8i\n",
      "----------CONJUGADO DE UN NÚMERO-------\n",
      "Numero complejo : 2 -6i\n",
      "----------RESULTADO-------\n",
      "Numero complejo : 2 +6i\n",
      "----------CONJUGADO DE UN NÚMERO-------\n",
      "Numero complejo : 3\n",
      "----------RESULTADO-------\n",
      "Numero complejo : 3\n",
      "----------Conjugada de matriz compleja-------\n",
      "Matriz compleja:\n",
      "|( -6 +1i )| |( 3 +8i )| \n",
      "|( 2 +-6i )| |( 3 +0i )| \n",
      "El resultado: \n",
      "Matriz compleja:\n",
      "|( -6 +-1i )| |( 3 +-8i )| \n",
      "|( 2 +6i )| |( 3 +0i )| \n"
     ]
    },
    {
     "data": {
      "text/plain": [
       "[[(-6, -1), (3, -8)], [(2, 6), (3, 0)]]"
      ]
     },
     "execution_count": 37,
     "metadata": {},
     "output_type": "execute_result"
    }
   ],
   "source": [
    "Matriz_conju([[(-6, 1), (3, 8)], [(2, -6), (3, 0)]])"
   ]
  },
  {
   "cell_type": "markdown",
   "metadata": {},
   "source": [
    "### 9. MATRIZ ADJUNTA(DAGA)"
   ]
  },
  {
   "cell_type": "code",
   "execution_count": 38,
   "metadata": {},
   "outputs": [],
   "source": [
    "def Matriz_adj(M1):\n",
    "    fila1 = len(M1)\n",
    "    columna1 = len(M1[0])\n",
    "    Resul = matriz_tran(M1)\n",
    "    Resul = Matriz_conju(Resul)\n",
    "    \n",
    "    print(\"----------Conjugada de matriz adjunta-------\")\n",
    "    imprimir_mat(M1,fila1, columna1)\n",
    "    print(\"El resultado: \")\n",
    "    imprimir_mat(Resul,columna1, fila1)        \n",
    "    return Resul"
   ]
  },
  {
   "cell_type": "code",
   "execution_count": 39,
   "metadata": {},
   "outputs": [
    {
     "name": "stdout",
     "output_type": "stream",
     "text": [
      "----------Transpuesta de matriz compleja-------\n",
      "Matriz compleja:\n",
      "|( 7 +7i )| |( 3 +8i )| |( 8 +4i )| \n",
      "|( 5 +0i )| |( 8 +-6i )| |( -10 +-1i )| \n",
      "El resultado: \n",
      "Matriz compleja:\n",
      "|( 7 +7i )| |( 5 +0i )| \n",
      "|( 3 +8i )| |( 8 +-6i )| \n",
      "|( 8 +4i )| |( -10 +-1i )| \n",
      "----------CONJUGADO DE UN NÚMERO-------\n",
      "Numero complejo : 7 +7i\n",
      "----------RESULTADO-------\n",
      "Numero complejo : 7 -7i\n",
      "----------CONJUGADO DE UN NÚMERO-------\n",
      "Numero complejo : 5\n",
      "----------RESULTADO-------\n",
      "Numero complejo : 5\n",
      "----------CONJUGADO DE UN NÚMERO-------\n",
      "Numero complejo : 3 +8i\n",
      "----------RESULTADO-------\n",
      "Numero complejo : 3 -8i\n",
      "----------CONJUGADO DE UN NÚMERO-------\n",
      "Numero complejo : 8 -6i\n",
      "----------RESULTADO-------\n",
      "Numero complejo : 8 +6i\n",
      "----------CONJUGADO DE UN NÚMERO-------\n",
      "Numero complejo : 8 +4i\n",
      "----------RESULTADO-------\n",
      "Numero complejo : 8 -4i\n",
      "----------CONJUGADO DE UN NÚMERO-------\n",
      "Numero complejo : -10 -1i\n",
      "----------RESULTADO-------\n",
      "Numero complejo : -10 +1i\n",
      "----------Conjugada de matriz compleja-------\n",
      "Matriz compleja:\n",
      "|( 7 +7i )| |( 5 +0i )| \n",
      "|( 3 +8i )| |( 8 +-6i )| \n",
      "|( 8 +4i )| |( -10 +-1i )| \n",
      "El resultado: \n",
      "Matriz compleja:\n",
      "|( 7 +-7i )| |( 5 +0i )| \n",
      "|( 3 +-8i )| |( 8 +6i )| \n",
      "|( 8 +-4i )| |( -10 +1i )| \n",
      "----------Conjugada de matriz adjunta-------\n",
      "Matriz compleja:\n",
      "|( 7 +7i )| |( 3 +8i )| |( 8 +4i )| \n",
      "|( 5 +0i )| |( 8 +-6i )| |( -10 +-1i )| \n",
      "El resultado: \n",
      "Matriz compleja:\n",
      "|( 7 +-7i )| |( 5 +0i )| \n",
      "|( 3 +-8i )| |( 8 +6i )| \n",
      "|( 8 +-4i )| |( -10 +1i )| \n"
     ]
    },
    {
     "data": {
      "text/plain": [
       "[[(7, -7), (5, 0)], [(3, -8), (8, 6)], [(8, -4), (-10, 1)]]"
      ]
     },
     "execution_count": 39,
     "metadata": {},
     "output_type": "execute_result"
    }
   ],
   "source": [
    "Matriz_adj([[(7, 7), (3, 8),(8,4)], [(5, 0), (8, -6),(-10,-1)]])"
   ]
  },
  {
   "cell_type": "markdown",
   "metadata": {},
   "source": [
    "### 10. PRODUCTO ENTRE MATRICES"
   ]
  },
  {
   "cell_type": "code",
   "execution_count": 40,
   "metadata": {},
   "outputs": [],
   "source": [
    "def mul_pivote(F1, F2):\n",
    "    R = Mul_C(F1[0],F2[0])\n",
    "    suma = R\n",
    "    for i in range(1,len(F1)):\n",
    "        R = Mul_C(F1[i],F2[i])\n",
    "        suma = suma_C(suma,R)\n",
    "    return suma\n",
    "       \n",
    "        "
   ]
  },
  {
   "cell_type": "code",
   "execution_count": 41,
   "metadata": {},
   "outputs": [],
   "source": [
    "def produc_matriz(M1, M2):\n",
    "    fila1 = len(M1)\n",
    "    columna1 = len(M1[0])\n",
    "    fila2 = len(M2)\n",
    "    columna2 = len(M2[0])\n",
    "    Resul = []\n",
    "    if columna1==fila2:\n",
    "        transpuesta = matriz_tran(M2)\n",
    "        for i in range(fila1):\n",
    "            Resul.append([])\n",
    "            for j in range(columna2):\n",
    "                s = mul_pivote(M1[i],transpuesta[j])\n",
    "                Resul[i].append(s)\n",
    "        print(\"----------Conjugada de matriz adjunta-------\")\n",
    "        imprimir_mat(M1,fila1, columna1)\n",
    "        imprimir_mat(M2,fila2, columna2)\n",
    "        print(\"El resultado: \")\n",
    "        imprimir_mat(Resul,fila1, columna2)        \n",
    "        return Resul\n",
    "    else:\n",
    "        print(\"ERROR!\")\n",
    "        return 0\n",
    "    "
   ]
  },
  {
   "cell_type": "code",
   "execution_count": 42,
   "metadata": {},
   "outputs": [
    {
     "name": "stdout",
     "output_type": "stream",
     "text": [
      "----------Transpuesta de matriz compleja-------\n",
      "Matriz compleja:\n",
      "|( 9 +-6i )| |( -3 +-4i )| |( 5 +-2i )| \n",
      "|( 3 +6i )| |( -1 +-5i )| |( 0 +-5i )| \n",
      "|( 9 +9i )| |( 8 +-4i )| |( -8 +-4i )| \n",
      "El resultado: \n",
      "Matriz compleja:\n",
      "|( 9 +-6i )| |( 3 +6i )| |( 9 +9i )| \n",
      "|( -3 +-4i )| |( -1 +-5i )| |( 8 +-4i )| \n",
      "|( 5 +-2i )| |( 0 +-5i )| |( -8 +-4i )| \n",
      "----------MULTIPLICACIÓN DE DOS NÚMEROS-------\n",
      "Numero complejo : -6 +2i\n",
      "Numero complejo : 9 -6i\n",
      "----------RESULTADO-------\n",
      "Numero complejo : -42 +54i\n",
      "----------MULTIPLICACIÓN DE DOS NÚMEROS-------\n",
      "Numero complejo : 6i\n",
      "Numero complejo : 3 +6i\n",
      "----------RESULTADO-------\n",
      "Numero complejo : -36 +18i\n",
      "----------SUMA DE DOS NÚMEROS-------\n",
      "Numero complejo : -42 +54i\n",
      "Numero complejo : -36 +18i\n",
      "----------RESULTADO-------\n",
      "Numero complejo : -78 +72i\n",
      "----------MULTIPLICACIÓN DE DOS NÚMEROS-------\n",
      "Numero complejo : 7 +2i\n",
      "Numero complejo : 9 +9i\n",
      "----------RESULTADO-------\n",
      "Numero complejo : 45 +81i\n",
      "----------SUMA DE DOS NÚMEROS-------\n",
      "Numero complejo : -78 +72i\n",
      "Numero complejo : 45 +81i\n",
      "----------RESULTADO-------\n",
      "Numero complejo : -33 +153i\n",
      "----------MULTIPLICACIÓN DE DOS NÚMEROS-------\n",
      "Numero complejo : -6 +2i\n",
      "Numero complejo : -3 -4i\n",
      "----------RESULTADO-------\n",
      "Numero complejo : 26 +18i\n",
      "----------MULTIPLICACIÓN DE DOS NÚMEROS-------\n",
      "Numero complejo : 6i\n",
      "Numero complejo : -1 -5i\n",
      "----------RESULTADO-------\n",
      "Numero complejo : 30 -6i\n",
      "----------SUMA DE DOS NÚMEROS-------\n",
      "Numero complejo : 26 +18i\n",
      "Numero complejo : 30 -6i\n",
      "----------RESULTADO-------\n",
      "Numero complejo : 56 +12i\n",
      "----------MULTIPLICACIÓN DE DOS NÚMEROS-------\n",
      "Numero complejo : 7 +2i\n",
      "Numero complejo : 8 -4i\n",
      "----------RESULTADO-------\n",
      "Numero complejo : 64 -12i\n",
      "----------SUMA DE DOS NÚMEROS-------\n",
      "Numero complejo : 56 +12i\n",
      "Numero complejo : 64 -12i\n",
      "----------RESULTADO-------\n",
      "Numero complejo : 120\n",
      "----------MULTIPLICACIÓN DE DOS NÚMEROS-------\n",
      "Numero complejo : -6 +2i\n",
      "Numero complejo : 5 -2i\n",
      "----------RESULTADO-------\n",
      "Numero complejo : -26 +22i\n",
      "----------MULTIPLICACIÓN DE DOS NÚMEROS-------\n",
      "Numero complejo : 6i\n",
      "Numero complejo : -5i\n",
      "----------RESULTADO-------\n",
      "Numero complejo : 30\n",
      "----------SUMA DE DOS NÚMEROS-------\n",
      "Numero complejo : -26 +22i\n",
      "Numero complejo : 30\n",
      "----------RESULTADO-------\n",
      "Numero complejo : 4 +22i\n",
      "----------MULTIPLICACIÓN DE DOS NÚMEROS-------\n",
      "Numero complejo : 7 +2i\n",
      "Numero complejo : -8 -4i\n",
      "----------RESULTADO-------\n",
      "Numero complejo : -48 -44i\n",
      "----------SUMA DE DOS NÚMEROS-------\n",
      "Numero complejo : 4 +22i\n",
      "Numero complejo : -48 -44i\n",
      "----------RESULTADO-------\n",
      "Numero complejo : -44 -22i\n",
      "----------MULTIPLICACIÓN DE DOS NÚMEROS-------\n",
      "Numero complejo : 6 +9i\n",
      "Numero complejo : 9 -6i\n",
      "----------RESULTADO-------\n",
      "Numero complejo : 108 +45i\n",
      "----------MULTIPLICACIÓN DE DOS NÚMEROS-------\n",
      "Numero complejo : 7 +7i\n",
      "Numero complejo : 3 +6i\n",
      "----------RESULTADO-------\n",
      "Numero complejo : -21 +63i\n",
      "----------SUMA DE DOS NÚMEROS-------\n",
      "Numero complejo : 108 +45i\n",
      "Numero complejo : -21 +63i\n",
      "----------RESULTADO-------\n",
      "Numero complejo : 87 +108i\n",
      "----------MULTIPLICACIÓN DE DOS NÚMEROS-------\n",
      "Numero complejo : -6 -6i\n",
      "Numero complejo : 9 +9i\n",
      "----------RESULTADO-------\n",
      "Numero complejo : -108i\n",
      "----------SUMA DE DOS NÚMEROS-------\n",
      "Numero complejo : 87 +108i\n",
      "Numero complejo : -108i\n",
      "----------RESULTADO-------\n",
      "Numero complejo : 87\n",
      "----------MULTIPLICACIÓN DE DOS NÚMEROS-------\n",
      "Numero complejo : 6 +9i\n",
      "Numero complejo : -3 -4i\n",
      "----------RESULTADO-------\n",
      "Numero complejo : 18 -51i\n",
      "----------MULTIPLICACIÓN DE DOS NÚMEROS-------\n",
      "Numero complejo : 7 +7i\n",
      "Numero complejo : -1 -5i\n",
      "----------RESULTADO-------\n",
      "Numero complejo : 28 -42i\n",
      "----------SUMA DE DOS NÚMEROS-------\n",
      "Numero complejo : 18 -51i\n",
      "Numero complejo : 28 -42i\n",
      "----------RESULTADO-------\n",
      "Numero complejo : 46 -93i\n",
      "----------MULTIPLICACIÓN DE DOS NÚMEROS-------\n",
      "Numero complejo : -6 -6i\n",
      "Numero complejo : 8 -4i\n",
      "----------RESULTADO-------\n",
      "Numero complejo : -72 -24i\n",
      "----------SUMA DE DOS NÚMEROS-------\n",
      "Numero complejo : 46 -93i\n",
      "Numero complejo : -72 -24i\n",
      "----------RESULTADO-------\n",
      "Numero complejo : -26 -117i\n",
      "----------MULTIPLICACIÓN DE DOS NÚMEROS-------\n",
      "Numero complejo : 6 +9i\n",
      "Numero complejo : 5 -2i\n",
      "----------RESULTADO-------\n",
      "Numero complejo : 48 +33i\n",
      "----------MULTIPLICACIÓN DE DOS NÚMEROS-------\n",
      "Numero complejo : 7 +7i\n",
      "Numero complejo : -5i\n",
      "----------RESULTADO-------\n",
      "Numero complejo : 35 -35i\n",
      "----------SUMA DE DOS NÚMEROS-------\n",
      "Numero complejo : 48 +33i\n",
      "Numero complejo : 35 -35i\n",
      "----------RESULTADO-------\n",
      "Numero complejo : 83 -2i\n",
      "----------MULTIPLICACIÓN DE DOS NÚMEROS-------\n",
      "Numero complejo : -6 -6i\n",
      "Numero complejo : -8 -4i\n",
      "----------RESULTADO-------\n",
      "Numero complejo : 24 +72i\n",
      "----------SUMA DE DOS NÚMEROS-------\n",
      "Numero complejo : 83 -2i\n",
      "Numero complejo : 24 +72i\n",
      "----------RESULTADO-------\n",
      "Numero complejo : 107 +70i\n",
      "----------MULTIPLICACIÓN DE DOS NÚMEROS-------\n",
      "Numero complejo : 5 +8i\n",
      "Numero complejo : 9 -6i\n",
      "----------RESULTADO-------\n",
      "Numero complejo : 93 +42i\n",
      "----------MULTIPLICACIÓN DE DOS NÚMEROS-------\n",
      "Numero complejo : -6 +8i\n",
      "Numero complejo : 3 +6i\n",
      "----------RESULTADO-------\n",
      "Numero complejo : -66 -12i\n",
      "----------SUMA DE DOS NÚMEROS-------\n",
      "Numero complejo : 93 +42i\n",
      "Numero complejo : -66 -12i\n",
      "----------RESULTADO-------\n",
      "Numero complejo : 27 +30i\n",
      "----------MULTIPLICACIÓN DE DOS NÚMEROS-------\n",
      "Numero complejo : 6 +9i\n",
      "Numero complejo : 9 +9i\n",
      "----------RESULTADO-------\n",
      "Numero complejo : -27 +135i\n",
      "----------SUMA DE DOS NÚMEROS-------\n",
      "Numero complejo : 27 +30i\n",
      "Numero complejo : -27 +135i\n",
      "----------RESULTADO-------\n",
      "Numero complejo : 165i\n",
      "----------MULTIPLICACIÓN DE DOS NÚMEROS-------\n",
      "Numero complejo : 5 +8i\n",
      "Numero complejo : -3 -4i\n",
      "----------RESULTADO-------\n",
      "Numero complejo : 17 -44i\n",
      "----------MULTIPLICACIÓN DE DOS NÚMEROS-------\n",
      "Numero complejo : -6 +8i\n",
      "Numero complejo : -1 -5i\n",
      "----------RESULTADO-------\n",
      "Numero complejo : 46 +22i\n",
      "----------SUMA DE DOS NÚMEROS-------\n",
      "Numero complejo : 17 -44i\n",
      "Numero complejo : 46 +22i\n",
      "----------RESULTADO-------\n",
      "Numero complejo : 63 -22i\n",
      "----------MULTIPLICACIÓN DE DOS NÚMEROS-------\n",
      "Numero complejo : 6 +9i\n",
      "Numero complejo : 8 -4i\n",
      "----------RESULTADO-------\n",
      "Numero complejo : 84 +48i\n",
      "----------SUMA DE DOS NÚMEROS-------\n",
      "Numero complejo : 63 -22i\n",
      "Numero complejo : 84 +48i\n",
      "----------RESULTADO-------\n",
      "Numero complejo : 147 +26i\n",
      "----------MULTIPLICACIÓN DE DOS NÚMEROS-------\n",
      "Numero complejo : 5 +8i\n",
      "Numero complejo : 5 -2i\n",
      "----------RESULTADO-------\n",
      "Numero complejo : 41 +30i\n",
      "----------MULTIPLICACIÓN DE DOS NÚMEROS-------\n",
      "Numero complejo : -6 +8i\n",
      "Numero complejo : -5i\n",
      "----------RESULTADO-------\n",
      "Numero complejo : 40 +30i\n",
      "----------SUMA DE DOS NÚMEROS-------\n",
      "Numero complejo : 41 +30i\n",
      "Numero complejo : 40 +30i\n",
      "----------RESULTADO-------\n",
      "Numero complejo : 81 +60i\n",
      "----------MULTIPLICACIÓN DE DOS NÚMEROS-------\n",
      "Numero complejo : 6 +9i\n",
      "Numero complejo : -8 -4i\n",
      "----------RESULTADO-------\n",
      "Numero complejo : -12 -96i\n",
      "----------SUMA DE DOS NÚMEROS-------\n",
      "Numero complejo : 81 +60i\n",
      "Numero complejo : -12 -96i\n",
      "----------RESULTADO-------\n",
      "Numero complejo : 69 -36i\n",
      "----------Conjugada de matriz adjunta-------\n",
      "Matriz compleja:\n",
      "|( -6 +2i )| |( 0 +6i )| |( 7 +2i )| \n",
      "|( 6 +9i )| |( 7 +7i )| |( -6 +-6i )| \n",
      "|( 5 +8i )| |( -6 +8i )| |( 6 +9i )| \n",
      "Matriz compleja:\n",
      "|( 9 +-6i )| |( -3 +-4i )| |( 5 +-2i )| \n",
      "|( 3 +6i )| |( -1 +-5i )| |( 0 +-5i )| \n",
      "|( 9 +9i )| |( 8 +-4i )| |( -8 +-4i )| \n",
      "El resultado: \n",
      "Matriz compleja:\n",
      "|( -33 +153i )| |( 120 +0i )| |( -44 +-22i )| \n",
      "|( 87 +0i )| |( -26 +-117i )| |( 107 +70i )| \n",
      "|( 0 +165i )| |( 147 +26i )| |( 69 +-36i )| \n"
     ]
    },
    {
     "data": {
      "text/plain": [
       "[[(-33, 153), (120, 0), (-44, -22)],\n",
       " [(87, 0), (-26, -117), (107, 70)],\n",
       " [(0, 165), (147, 26), (69, -36)]]"
      ]
     },
     "execution_count": 42,
     "metadata": {},
     "output_type": "execute_result"
    }
   ],
   "source": [
    "produc_matriz([[(-6,2),(0,6),(7,2)],[(6,9),(7,7),(-6,-6)],[(5,8),(-6,8),(6,9)]],[[(9,-6),(-3,-4),(5,-2)],[(3,6),(-1,-5),(0,-5)],[(9,9),(8,-4),(-8,-4)]])"
   ]
  },
  {
   "cell_type": "code",
   "execution_count": 43,
   "metadata": {},
   "outputs": [
    {
     "name": "stdout",
     "output_type": "stream",
     "text": [
      "ERROR!\n"
     ]
    },
    {
     "data": {
      "text/plain": [
       "0"
      ]
     },
     "execution_count": 43,
     "metadata": {},
     "output_type": "execute_result"
    }
   ],
   "source": [
    "produc_matriz([[(2,1),(3,0),(1,-1)],[(0,0),(0,-2),(7,-3)],[(3,0),(0,0),(1,-2)]],[[(0,-1),(1,0)],[(0,0),(0,1)]])"
   ]
  },
  {
   "cell_type": "markdown",
   "metadata": {},
   "source": [
    "### 11 ACCION DE MATRIZ COMPLEJA SOBRE VECTOR COMPLEJO"
   ]
  },
  {
   "cell_type": "code",
   "execution_count": 44,
   "metadata": {},
   "outputs": [],
   "source": [
    "def accion(M,V):\n",
    "    fila1 = len(M)\n",
    "    columna1 = len(M[0])\n",
    "    Resul = []\n",
    "    fila2 = len(V)\n",
    "    if columna1==fila2:\n",
    "        for i in range(fila1):\n",
    "            s = mul_pivote(M[i],V)\n",
    "            Resul.append(s)\n",
    "    print(\"----------Acción de matriz compleja sobre vector complejo-------\")\n",
    "    imprimir_vec(V, fila2)\n",
    "    imprimir_mat(M,fila1, columna1)\n",
    "    print(\"El resultado: \")\n",
    "    imprimir_vec(Resul, len(Resul))\n",
    "    return Resul"
   ]
  },
  {
   "cell_type": "code",
   "execution_count": 45,
   "metadata": {},
   "outputs": [
    {
     "name": "stdout",
     "output_type": "stream",
     "text": [
      "----------MULTIPLICACIÓN DE DOS NÚMEROS-------\n",
      "Numero complejo : 1 -1i\n",
      "Numero complejo : 1 +1i\n",
      "----------RESULTADO-------\n",
      "Numero complejo : 2\n",
      "----------MULTIPLICACIÓN DE DOS NÚMEROS-------\n",
      "Numero complejo : -1i\n",
      "Numero complejo : 2\n",
      "----------RESULTADO-------\n",
      "Numero complejo : -2i\n",
      "----------SUMA DE DOS NÚMEROS-------\n",
      "Numero complejo : 2\n",
      "Numero complejo : -2i\n",
      "----------RESULTADO-------\n",
      "Numero complejo : 2 -2i\n",
      "----------MULTIPLICACIÓN DE DOS NÚMEROS-------\n",
      "Numero complejo : 5i\n",
      "Numero complejo : 1 +1i\n",
      "----------RESULTADO-------\n",
      "Numero complejo : -5 +5i\n",
      "----------MULTIPLICACIÓN DE DOS NÚMEROS-------\n",
      "Numero complejo : 0i\n",
      "Numero complejo : 2\n",
      "----------RESULTADO-------\n",
      "Numero complejo : 0i\n",
      "----------SUMA DE DOS NÚMEROS-------\n",
      "Numero complejo : -5 +5i\n",
      "Numero complejo : 0i\n",
      "----------RESULTADO-------\n",
      "Numero complejo : -5 +5i\n",
      "----------Acción de matriz compleja sobre vector complejo-------\n",
      "Vector complejo:\n",
      "|( 1 +1i )|  \n",
      "|   2    |\n",
      "Matriz compleja:\n",
      "|( 1 +-1i )| |( 0 +-1i )| \n",
      "|( 0 +5i )| |( 0 +0i )| \n",
      "El resultado: \n",
      "Vector complejo:\n",
      "|( 2 +-2i )|  \n",
      "|( -5 +5i )|  \n"
     ]
    },
    {
     "data": {
      "text/plain": [
       "[(2, -2), (-5, 5)]"
      ]
     },
     "execution_count": 45,
     "metadata": {},
     "output_type": "execute_result"
    }
   ],
   "source": [
    "accion([[(1,-1),(0,-1)],[(0,5),(0,0)]],[(1,1),(2,0)])"
   ]
  },
  {
   "cell_type": "markdown",
   "metadata": {},
   "source": [
    "### 12.PRODUCTO INTERNO DE VECTORES COMPLEJOS"
   ]
  },
  {
   "cell_type": "code",
   "execution_count": 46,
   "metadata": {},
   "outputs": [],
   "source": [
    "def pro_punto(V1,V2):\n",
    "    fila1 = len(V1)\n",
    "    fila2 = len(V2)\n",
    "    S = (0,0)\n",
    "    if fila1==fila2:\n",
    "        \n",
    "        for i in range(fila1):\n",
    "            S = suma_C(S,Mul_C(Conju_C(V1[i]), V2[i]))\n",
    "                \n",
    "        print(\"----------Producto interno de vectores complejos-------\")\n",
    "        imprimir_vec(V1, len(V1))\n",
    "        imprimir_vec(V2, len(V2))\n",
    "        print(\"El resultado: \")\n",
    "        imprimir(S)     \n",
    "        return S\n",
    "    else:\n",
    "        return 0\n",
    "    "
   ]
  },
  {
   "cell_type": "code",
   "execution_count": 47,
   "metadata": {},
   "outputs": [
    {
     "name": "stdout",
     "output_type": "stream",
     "text": [
      "----------CONJUGADO DE UN NÚMERO-------\n",
      "Numero complejo : 2 -1i\n",
      "----------RESULTADO-------\n",
      "Numero complejo : 2 +1i\n",
      "----------MULTIPLICACIÓN DE DOS NÚMEROS-------\n",
      "Numero complejo : 2 +1i\n",
      "Numero complejo : 6 -3i\n",
      "----------RESULTADO-------\n",
      "Numero complejo : 15\n",
      "----------SUMA DE DOS NÚMEROS-------\n",
      "Numero complejo : 0i\n",
      "Numero complejo : 15\n",
      "----------RESULTADO-------\n",
      "Numero complejo : 15\n",
      "----------CONJUGADO DE UN NÚMERO-------\n",
      "Numero complejo : -8 -5i\n",
      "----------RESULTADO-------\n",
      "Numero complejo : -8 +5i\n",
      "----------MULTIPLICACIÓN DE DOS NÚMEROS-------\n",
      "Numero complejo : -8 +5i\n",
      "Numero complejo : 5 -1i\n",
      "----------RESULTADO-------\n",
      "Numero complejo : -35 +33i\n",
      "----------SUMA DE DOS NÚMEROS-------\n",
      "Numero complejo : 15\n",
      "Numero complejo : -35 +33i\n",
      "----------RESULTADO-------\n",
      "Numero complejo : -20 +33i\n",
      "----------CONJUGADO DE UN NÚMERO-------\n",
      "Numero complejo : -2 -6i\n",
      "----------RESULTADO-------\n",
      "Numero complejo : -2 +6i\n",
      "----------MULTIPLICACIÓN DE DOS NÚMEROS-------\n",
      "Numero complejo : -2 +6i\n",
      "Numero complejo : -6 -2i\n",
      "----------RESULTADO-------\n",
      "Numero complejo : 24 -32i\n",
      "----------SUMA DE DOS NÚMEROS-------\n",
      "Numero complejo : -20 +33i\n",
      "Numero complejo : 24 -32i\n",
      "----------RESULTADO-------\n",
      "Numero complejo : 4 +1i\n",
      "----------Producto interno de vectores complejos-------\n",
      "Vector complejo:\n",
      "|( 2 +-1i )|  \n",
      "|( -8 +-5i )|  \n",
      "|( -2 +-6i )|  \n",
      "Vector complejo:\n",
      "|( 6 +-3i )|  \n",
      "|( 5 +-1i )|  \n",
      "|( -6 +-2i )|  \n",
      "El resultado: \n",
      "Numero complejo : 4 +1i\n"
     ]
    },
    {
     "data": {
      "text/plain": [
       "(4, 1)"
      ]
     },
     "execution_count": 47,
     "metadata": {},
     "output_type": "execute_result"
    }
   ],
   "source": [
    "pro_punto([(2,-1),(-8,-5),(-2,-6)],[(6,-3),(5,-1),(-6,-2)])"
   ]
  },
  {
   "cell_type": "markdown",
   "metadata": {},
   "source": [
    "### 13. NORMA DE VECTOR COMPLEJO"
   ]
  },
  {
   "cell_type": "code",
   "execution_count": 48,
   "metadata": {},
   "outputs": [],
   "source": [
    "def norma_vec(V):\n",
    "    V2 = pro_punto(V,V)\n",
    "    suma = 0\n",
    "    for i in range(len(V2)):\n",
    "        print(V2[i])\n",
    "        suma += V2[i]\n",
    "    Resul = math.sqrt(suma)\n",
    "    print(\"----------Norma de vectores complejos-------\")\n",
    "    print(\"Resultado:\",int(Resul))\n",
    "    return Resul\n",
    "    "
   ]
  },
  {
   "cell_type": "code",
   "execution_count": 49,
   "metadata": {},
   "outputs": [
    {
     "name": "stdout",
     "output_type": "stream",
     "text": [
      "----------CONJUGADO DE UN NÚMERO-------\n",
      "Numero complejo : 4 +5i\n",
      "----------RESULTADO-------\n",
      "Numero complejo : 4 -5i\n",
      "----------MULTIPLICACIÓN DE DOS NÚMEROS-------\n",
      "Numero complejo : 4 -5i\n",
      "Numero complejo : 4 +5i\n",
      "----------RESULTADO-------\n",
      "Numero complejo : 41\n",
      "----------SUMA DE DOS NÚMEROS-------\n",
      "Numero complejo : 0i\n",
      "Numero complejo : 41\n",
      "----------RESULTADO-------\n",
      "Numero complejo : 41\n",
      "----------CONJUGADO DE UN NÚMERO-------\n",
      "Numero complejo : 3 +1i\n",
      "----------RESULTADO-------\n",
      "Numero complejo : 3 -1i\n",
      "----------MULTIPLICACIÓN DE DOS NÚMEROS-------\n",
      "Numero complejo : 3 -1i\n",
      "Numero complejo : 3 +1i\n",
      "----------RESULTADO-------\n",
      "Numero complejo : 10\n",
      "----------SUMA DE DOS NÚMEROS-------\n",
      "Numero complejo : 41\n",
      "Numero complejo : 10\n",
      "----------RESULTADO-------\n",
      "Numero complejo : 51\n",
      "----------CONJUGADO DE UN NÚMERO-------\n",
      "Numero complejo : -7i\n",
      "----------RESULTADO-------\n",
      "Numero complejo : 7i\n",
      "----------MULTIPLICACIÓN DE DOS NÚMEROS-------\n",
      "Numero complejo : 7i\n",
      "Numero complejo : -7i\n",
      "----------RESULTADO-------\n",
      "Numero complejo : 49\n",
      "----------SUMA DE DOS NÚMEROS-------\n",
      "Numero complejo : 51\n",
      "Numero complejo : 49\n",
      "----------RESULTADO-------\n",
      "Numero complejo : 100\n",
      "----------Producto interno de vectores complejos-------\n",
      "Vector complejo:\n",
      "|( 4 +5i )|  \n",
      "|( 3 +1i )|  \n",
      "|  -7i    |  \n",
      "Vector complejo:\n",
      "|( 4 +5i )|  \n",
      "|( 3 +1i )|  \n",
      "|  -7i    |  \n",
      "El resultado: \n",
      "Numero complejo : 100\n",
      "100\n",
      "0\n",
      "----------Norma de vectores complejos-------\n",
      "Resultado: 10\n"
     ]
    },
    {
     "data": {
      "text/plain": [
       "10.0"
      ]
     },
     "execution_count": 49,
     "metadata": {},
     "output_type": "execute_result"
    }
   ],
   "source": [
    "norma_vec([(4,5),(3,1),(0,-7)])"
   ]
  },
  {
   "cell_type": "markdown",
   "metadata": {},
   "source": [
    "### 14. DISTANCIA ENTRE VECTORES"
   ]
  },
  {
   "cell_type": "code",
   "execution_count": 50,
   "metadata": {},
   "outputs": [],
   "source": [
    "def distancia(V1,V2):\n",
    "    suma = adi_vectores(V1,inve_vector(V2))\n",
    "    Resul = norma_vec(suma)\n",
    "    return Resul"
   ]
  },
  {
   "cell_type": "code",
   "execution_count": 51,
   "metadata": {},
   "outputs": [
    {
     "name": "stdout",
     "output_type": "stream",
     "text": [
      "----------MULTIPLICACIÓN DE DOS NÚMEROS-------\n",
      "Numero complejo : -1\n",
      "Numero complejo : 7 +8i\n",
      "----------RESULTADO-------\n",
      "Numero complejo : -7 -8i\n",
      "----------MULTIPLICACIÓN DE DOS NÚMEROS-------\n",
      "Numero complejo : -1\n",
      "Numero complejo : 2 -8i\n",
      "----------RESULTADO-------\n",
      "Numero complejo : -2 +8i\n",
      "----------MULTIPLICACIÓN DE DOS NÚMEROS-------\n",
      "Numero complejo : -1\n",
      "Numero complejo : 1 +4i\n",
      "----------RESULTADO-------\n",
      "Numero complejo : -1 -4i\n",
      "----------Multiplicacion de escalar por vector complejo-------\n",
      "Escalar\n",
      "Numero complejo : -1\n",
      "Vector complejo:\n",
      "|( 7 +8i )|  \n",
      "|( 2 +-8i )|  \n",
      "|( 1 +4i )|  \n",
      "El resultado: \n",
      "Vector complejo:\n",
      "|( -7 +-8i )|  \n",
      "|( -2 +8i )|  \n",
      "|( -1 +-4i )|  \n",
      "----------SUMA DE DOS NÚMEROS-------\n",
      "Numero complejo : 2 +7i\n",
      "Numero complejo : -7 -8i\n",
      "----------RESULTADO-------\n",
      "Numero complejo : -5 -1i\n",
      "----------SUMA DE DOS NÚMEROS-------\n",
      "Numero complejo : 4 -1i\n",
      "Numero complejo : -2 +8i\n",
      "----------RESULTADO-------\n",
      "Numero complejo : 2 +7i\n",
      "----------SUMA DE DOS NÚMEROS-------\n",
      "Numero complejo : 2 -4i\n",
      "Numero complejo : -1 -4i\n",
      "----------RESULTADO-------\n",
      "Numero complejo : 1 -8i\n",
      "----------Adición de vectores complejos-------\n",
      "Vector complejo:\n",
      "|( 2 +7i )|  \n",
      "|( 4 +-1i )|  \n",
      "|( 2 +-4i )|  \n",
      "Vector complejo:\n",
      "|( -7 +-8i )|  \n",
      "|( -2 +8i )|  \n",
      "|( -1 +-4i )|  \n",
      "El resultado: \n",
      "Vector complejo:\n",
      "|( -5 +-1i )|  \n",
      "|( 2 +7i )|  \n",
      "|( 1 +-8i )|  \n",
      "----------CONJUGADO DE UN NÚMERO-------\n",
      "Numero complejo : -5 -1i\n",
      "----------RESULTADO-------\n",
      "Numero complejo : -5 +1i\n",
      "----------MULTIPLICACIÓN DE DOS NÚMEROS-------\n",
      "Numero complejo : -5 +1i\n",
      "Numero complejo : -5 -1i\n",
      "----------RESULTADO-------\n",
      "Numero complejo : 26\n",
      "----------SUMA DE DOS NÚMEROS-------\n",
      "Numero complejo : 0i\n",
      "Numero complejo : 26\n",
      "----------RESULTADO-------\n",
      "Numero complejo : 26\n",
      "----------CONJUGADO DE UN NÚMERO-------\n",
      "Numero complejo : 2 +7i\n",
      "----------RESULTADO-------\n",
      "Numero complejo : 2 -7i\n",
      "----------MULTIPLICACIÓN DE DOS NÚMEROS-------\n",
      "Numero complejo : 2 -7i\n",
      "Numero complejo : 2 +7i\n",
      "----------RESULTADO-------\n",
      "Numero complejo : 53\n",
      "----------SUMA DE DOS NÚMEROS-------\n",
      "Numero complejo : 26\n",
      "Numero complejo : 53\n",
      "----------RESULTADO-------\n",
      "Numero complejo : 79\n",
      "----------CONJUGADO DE UN NÚMERO-------\n",
      "Numero complejo : 1 -8i\n",
      "----------RESULTADO-------\n",
      "Numero complejo : 1 +8i\n",
      "----------MULTIPLICACIÓN DE DOS NÚMEROS-------\n",
      "Numero complejo : 1 +8i\n",
      "Numero complejo : 1 -8i\n",
      "----------RESULTADO-------\n",
      "Numero complejo : 65\n",
      "----------SUMA DE DOS NÚMEROS-------\n",
      "Numero complejo : 79\n",
      "Numero complejo : 65\n",
      "----------RESULTADO-------\n",
      "Numero complejo : 144\n",
      "----------Producto interno de vectores complejos-------\n",
      "Vector complejo:\n",
      "|( -5 +-1i )|  \n",
      "|( 2 +7i )|  \n",
      "|( 1 +-8i )|  \n",
      "Vector complejo:\n",
      "|( -5 +-1i )|  \n",
      "|( 2 +7i )|  \n",
      "|( 1 +-8i )|  \n",
      "El resultado: \n",
      "Numero complejo : 144\n",
      "144\n",
      "0\n",
      "----------Norma de vectores complejos-------\n",
      "Resultado: 12\n"
     ]
    },
    {
     "data": {
      "text/plain": [
       "12.0"
      ]
     },
     "execution_count": 51,
     "metadata": {},
     "output_type": "execute_result"
    }
   ],
   "source": [
    "distancia([(2,7),(4,-1),(2,-4)],[(7,8),(2,-8),(1,4)])"
   ]
  },
  {
   "cell_type": "markdown",
   "metadata": {},
   "source": [
    "### 15. Matriz unitaria"
   ]
  },
  {
   "cell_type": "code",
   "execution_count": 69,
   "metadata": {},
   "outputs": [],
   "source": [
    "def mat_uni(M):\n",
    "    fila1 = len(M)\n",
    "    columna1 = len(M[0])\n",
    "    identidad = []\n",
    "    for i in range(fila1):\n",
    "        identidad.append([])\n",
    "        for j in range(columna1):\n",
    "            if i==j:\n",
    "                identidad[i].append(1)\n",
    "            else:\n",
    "                identidad[i].append(0)\n",
    "    daga = Matriz_adj(M)\n",
    "    Resul = produc_matriz(M,daga)\n",
    "    \n",
    "    print(\"----------¿Es la matriz compleja una matriz unitaria?-------\")\n",
    "    print(\"El resultado: \")\n",
    "    print(identidad == Resul)\n",
    "   \n",
    "            \n",
    "        \n",
    "    "
   ]
  },
  {
   "cell_type": "code",
   "execution_count": 70,
   "metadata": {},
   "outputs": [
    {
     "name": "stdout",
     "output_type": "stream",
     "text": [
      "----------Transpuesta de matriz compleja-------\n",
      "Matriz compleja:\n",
      "|( 0 +1i )| |( 1 +0i )| |( 0 +0i )| \n",
      "|( 0 +0i )| |( 0 +1i )| |( 1 +0i )| \n",
      "|( 1 +0i )| |( 0 +0i )| |( 0 +1i )| \n",
      "El resultado: \n",
      "Matriz compleja:\n",
      "|( 0 +1i )| |( 0 +0i )| |( 1 +0i )| \n",
      "|( 1 +0i )| |( 0 +1i )| |( 0 +0i )| \n",
      "|( 0 +0i )| |( 1 +0i )| |( 0 +1i )| \n",
      "----------CONJUGADO DE UN NÚMERO-------\n",
      "Numero complejo : 1i\n",
      "----------RESULTADO-------\n",
      "Numero complejo : -1i\n",
      "----------CONJUGADO DE UN NÚMERO-------\n",
      "Numero complejo : 0i\n",
      "----------RESULTADO-------\n",
      "Numero complejo : 0i\n",
      "----------CONJUGADO DE UN NÚMERO-------\n",
      "Numero complejo : 1\n",
      "----------RESULTADO-------\n",
      "Numero complejo : 1\n",
      "----------CONJUGADO DE UN NÚMERO-------\n",
      "Numero complejo : 1\n",
      "----------RESULTADO-------\n",
      "Numero complejo : 1\n",
      "----------CONJUGADO DE UN NÚMERO-------\n",
      "Numero complejo : 1i\n",
      "----------RESULTADO-------\n",
      "Numero complejo : -1i\n",
      "----------CONJUGADO DE UN NÚMERO-------\n",
      "Numero complejo : 0i\n",
      "----------RESULTADO-------\n",
      "Numero complejo : 0i\n",
      "----------CONJUGADO DE UN NÚMERO-------\n",
      "Numero complejo : 0i\n",
      "----------RESULTADO-------\n",
      "Numero complejo : 0i\n",
      "----------CONJUGADO DE UN NÚMERO-------\n",
      "Numero complejo : 1\n",
      "----------RESULTADO-------\n",
      "Numero complejo : 1\n",
      "----------CONJUGADO DE UN NÚMERO-------\n",
      "Numero complejo : 1i\n",
      "----------RESULTADO-------\n",
      "Numero complejo : -1i\n",
      "----------Conjugada de matriz compleja-------\n",
      "Matriz compleja:\n",
      "|( 0 +1i )| |( 0 +0i )| |( 1 +0i )| \n",
      "|( 1 +0i )| |( 0 +1i )| |( 0 +0i )| \n",
      "|( 0 +0i )| |( 1 +0i )| |( 0 +1i )| \n",
      "El resultado: \n",
      "Matriz compleja:\n",
      "|( 0 +-1i )| |( 0 +0i )| |( 1 +0i )| \n",
      "|( 1 +0i )| |( 0 +-1i )| |( 0 +0i )| \n",
      "|( 0 +0i )| |( 1 +0i )| |( 0 +-1i )| \n",
      "----------Conjugada de matriz adjunta-------\n",
      "Matriz compleja:\n",
      "|( 0 +1i )| |( 1 +0i )| |( 0 +0i )| \n",
      "|( 0 +0i )| |( 0 +1i )| |( 1 +0i )| \n",
      "|( 1 +0i )| |( 0 +0i )| |( 0 +1i )| \n",
      "El resultado: \n",
      "Matriz compleja:\n",
      "|( 0 +-1i )| |( 0 +0i )| |( 1 +0i )| \n",
      "|( 1 +0i )| |( 0 +-1i )| |( 0 +0i )| \n",
      "|( 0 +0i )| |( 1 +0i )| |( 0 +-1i )| \n",
      "----------Transpuesta de matriz compleja-------\n",
      "Matriz compleja:\n",
      "|( 0 +-1i )| |( 0 +0i )| |( 1 +0i )| \n",
      "|( 1 +0i )| |( 0 +-1i )| |( 0 +0i )| \n",
      "|( 0 +0i )| |( 1 +0i )| |( 0 +-1i )| \n",
      "El resultado: \n",
      "Matriz compleja:\n",
      "|( 0 +-1i )| |( 1 +0i )| |( 0 +0i )| \n",
      "|( 0 +0i )| |( 0 +-1i )| |( 1 +0i )| \n",
      "|( 1 +0i )| |( 0 +0i )| |( 0 +-1i )| \n",
      "----------MULTIPLICACIÓN DE DOS NÚMEROS-------\n",
      "Numero complejo : 1i\n",
      "Numero complejo : -1i\n",
      "----------RESULTADO-------\n",
      "Numero complejo : 1\n",
      "----------MULTIPLICACIÓN DE DOS NÚMEROS-------\n",
      "Numero complejo : 1\n",
      "Numero complejo : 1\n",
      "----------RESULTADO-------\n",
      "Numero complejo : 1\n",
      "----------SUMA DE DOS NÚMEROS-------\n",
      "Numero complejo : 1\n",
      "Numero complejo : 1\n",
      "----------RESULTADO-------\n",
      "Numero complejo : 2\n",
      "----------MULTIPLICACIÓN DE DOS NÚMEROS-------\n",
      "Numero complejo : 0i\n",
      "Numero complejo : 0i\n",
      "----------RESULTADO-------\n",
      "Numero complejo : 0i\n",
      "----------SUMA DE DOS NÚMEROS-------\n",
      "Numero complejo : 2\n",
      "Numero complejo : 0i\n",
      "----------RESULTADO-------\n",
      "Numero complejo : 2\n",
      "----------MULTIPLICACIÓN DE DOS NÚMEROS-------\n",
      "Numero complejo : 1i\n",
      "Numero complejo : 0i\n",
      "----------RESULTADO-------\n",
      "Numero complejo : 0i\n",
      "----------MULTIPLICACIÓN DE DOS NÚMEROS-------\n",
      "Numero complejo : 1\n",
      "Numero complejo : -1i\n",
      "----------RESULTADO-------\n",
      "Numero complejo : -1i\n",
      "----------SUMA DE DOS NÚMEROS-------\n",
      "Numero complejo : 0i\n",
      "Numero complejo : -1i\n",
      "----------RESULTADO-------\n",
      "Numero complejo : -1i\n",
      "----------MULTIPLICACIÓN DE DOS NÚMEROS-------\n",
      "Numero complejo : 0i\n",
      "Numero complejo : 1\n",
      "----------RESULTADO-------\n",
      "Numero complejo : 0i\n",
      "----------SUMA DE DOS NÚMEROS-------\n",
      "Numero complejo : -1i\n",
      "Numero complejo : 0i\n",
      "----------RESULTADO-------\n",
      "Numero complejo : -1i\n",
      "----------MULTIPLICACIÓN DE DOS NÚMEROS-------\n",
      "Numero complejo : 1i\n",
      "Numero complejo : 1\n",
      "----------RESULTADO-------\n",
      "Numero complejo : 1i\n",
      "----------MULTIPLICACIÓN DE DOS NÚMEROS-------\n",
      "Numero complejo : 1\n",
      "Numero complejo : 0i\n",
      "----------RESULTADO-------\n",
      "Numero complejo : 0i\n",
      "----------SUMA DE DOS NÚMEROS-------\n",
      "Numero complejo : 1i\n",
      "Numero complejo : 0i\n",
      "----------RESULTADO-------\n",
      "Numero complejo : 1i\n",
      "----------MULTIPLICACIÓN DE DOS NÚMEROS-------\n",
      "Numero complejo : 0i\n",
      "Numero complejo : -1i\n",
      "----------RESULTADO-------\n",
      "Numero complejo : 0i\n",
      "----------SUMA DE DOS NÚMEROS-------\n",
      "Numero complejo : 1i\n",
      "Numero complejo : 0i\n",
      "----------RESULTADO-------\n",
      "Numero complejo : 1i\n",
      "----------MULTIPLICACIÓN DE DOS NÚMEROS-------\n",
      "Numero complejo : 0i\n",
      "Numero complejo : -1i\n",
      "----------RESULTADO-------\n",
      "Numero complejo : 0i\n",
      "----------MULTIPLICACIÓN DE DOS NÚMEROS-------\n",
      "Numero complejo : 1i\n",
      "Numero complejo : 1\n",
      "----------RESULTADO-------\n",
      "Numero complejo : 1i\n",
      "----------SUMA DE DOS NÚMEROS-------\n",
      "Numero complejo : 0i\n",
      "Numero complejo : 1i\n",
      "----------RESULTADO-------\n",
      "Numero complejo : 1i\n",
      "----------MULTIPLICACIÓN DE DOS NÚMEROS-------\n",
      "Numero complejo : 1\n",
      "Numero complejo : 0i\n",
      "----------RESULTADO-------\n",
      "Numero complejo : 0i\n",
      "----------SUMA DE DOS NÚMEROS-------\n",
      "Numero complejo : 1i\n",
      "Numero complejo : 0i\n",
      "----------RESULTADO-------\n",
      "Numero complejo : 1i\n",
      "----------MULTIPLICACIÓN DE DOS NÚMEROS-------\n",
      "Numero complejo : 0i\n",
      "Numero complejo : 0i\n",
      "----------RESULTADO-------\n",
      "Numero complejo : 0i\n",
      "----------MULTIPLICACIÓN DE DOS NÚMEROS-------\n",
      "Numero complejo : 1i\n",
      "Numero complejo : -1i\n",
      "----------RESULTADO-------\n",
      "Numero complejo : 1\n",
      "----------SUMA DE DOS NÚMEROS-------\n",
      "Numero complejo : 0i\n",
      "Numero complejo : 1\n",
      "----------RESULTADO-------\n",
      "Numero complejo : 1\n",
      "----------MULTIPLICACIÓN DE DOS NÚMEROS-------\n",
      "Numero complejo : 1\n",
      "Numero complejo : 1\n",
      "----------RESULTADO-------\n",
      "Numero complejo : 1\n",
      "----------SUMA DE DOS NÚMEROS-------\n",
      "Numero complejo : 1\n",
      "Numero complejo : 1\n",
      "----------RESULTADO-------\n",
      "Numero complejo : 2\n",
      "----------MULTIPLICACIÓN DE DOS NÚMEROS-------\n",
      "Numero complejo : 0i\n",
      "Numero complejo : 1\n",
      "----------RESULTADO-------\n",
      "Numero complejo : 0i\n",
      "----------MULTIPLICACIÓN DE DOS NÚMEROS-------\n",
      "Numero complejo : 1i\n",
      "Numero complejo : 0i\n",
      "----------RESULTADO-------\n",
      "Numero complejo : 0i\n",
      "----------SUMA DE DOS NÚMEROS-------\n",
      "Numero complejo : 0i\n",
      "Numero complejo : 0i\n",
      "----------RESULTADO-------\n",
      "Numero complejo : 0i\n",
      "----------MULTIPLICACIÓN DE DOS NÚMEROS-------\n",
      "Numero complejo : 1\n",
      "Numero complejo : -1i\n",
      "----------RESULTADO-------\n",
      "Numero complejo : -1i\n",
      "----------SUMA DE DOS NÚMEROS-------\n",
      "Numero complejo : 0i\n",
      "Numero complejo : -1i\n",
      "----------RESULTADO-------\n",
      "Numero complejo : -1i\n",
      "----------MULTIPLICACIÓN DE DOS NÚMEROS-------\n",
      "Numero complejo : 1\n",
      "Numero complejo : -1i\n",
      "----------RESULTADO-------\n",
      "Numero complejo : -1i\n",
      "----------MULTIPLICACIÓN DE DOS NÚMEROS-------\n",
      "Numero complejo : 0i\n",
      "Numero complejo : 1\n",
      "----------RESULTADO-------\n",
      "Numero complejo : 0i\n",
      "----------SUMA DE DOS NÚMEROS-------\n",
      "Numero complejo : -1i\n",
      "Numero complejo : 0i\n",
      "----------RESULTADO-------\n",
      "Numero complejo : -1i\n",
      "----------MULTIPLICACIÓN DE DOS NÚMEROS-------\n",
      "Numero complejo : 1i\n",
      "Numero complejo : 0i\n",
      "----------RESULTADO-------\n",
      "Numero complejo : 0i\n",
      "----------SUMA DE DOS NÚMEROS-------\n",
      "Numero complejo : -1i\n",
      "Numero complejo : 0i\n",
      "----------RESULTADO-------\n",
      "Numero complejo : -1i\n",
      "----------MULTIPLICACIÓN DE DOS NÚMEROS-------\n",
      "Numero complejo : 1\n",
      "Numero complejo : 0i\n",
      "----------RESULTADO-------\n",
      "Numero complejo : 0i\n",
      "----------MULTIPLICACIÓN DE DOS NÚMEROS-------\n",
      "Numero complejo : 0i\n",
      "Numero complejo : -1i\n",
      "----------RESULTADO-------\n",
      "Numero complejo : 0i\n",
      "----------SUMA DE DOS NÚMEROS-------\n",
      "Numero complejo : 0i\n",
      "Numero complejo : 0i\n",
      "----------RESULTADO-------\n",
      "Numero complejo : 0i\n",
      "----------MULTIPLICACIÓN DE DOS NÚMEROS-------\n",
      "Numero complejo : 1i\n",
      "Numero complejo : 1\n",
      "----------RESULTADO-------\n",
      "Numero complejo : 1i\n",
      "----------SUMA DE DOS NÚMEROS-------\n",
      "Numero complejo : 0i\n",
      "Numero complejo : 1i\n",
      "----------RESULTADO-------\n",
      "Numero complejo : 1i\n",
      "----------MULTIPLICACIÓN DE DOS NÚMEROS-------\n",
      "Numero complejo : 1\n",
      "Numero complejo : 1\n",
      "----------RESULTADO-------\n",
      "Numero complejo : 1\n",
      "----------MULTIPLICACIÓN DE DOS NÚMEROS-------\n",
      "Numero complejo : 0i\n",
      "Numero complejo : 0i\n",
      "----------RESULTADO-------\n",
      "Numero complejo : 0i\n",
      "----------SUMA DE DOS NÚMEROS-------\n",
      "Numero complejo : 1\n",
      "Numero complejo : 0i\n",
      "----------RESULTADO-------\n",
      "Numero complejo : 1\n",
      "----------MULTIPLICACIÓN DE DOS NÚMEROS-------\n",
      "Numero complejo : 1i\n",
      "Numero complejo : -1i\n",
      "----------RESULTADO-------\n",
      "Numero complejo : 1\n",
      "----------SUMA DE DOS NÚMEROS-------\n",
      "Numero complejo : 1\n",
      "Numero complejo : 1\n",
      "----------RESULTADO-------\n",
      "Numero complejo : 2\n",
      "----------Conjugada de matriz adjunta-------\n",
      "Matriz compleja:\n",
      "|( 0 +1i )| |( 1 +0i )| |( 0 +0i )| \n",
      "|( 0 +0i )| |( 0 +1i )| |( 1 +0i )| \n",
      "|( 1 +0i )| |( 0 +0i )| |( 0 +1i )| \n",
      "Matriz compleja:\n",
      "|( 0 +-1i )| |( 0 +0i )| |( 1 +0i )| \n",
      "|( 1 +0i )| |( 0 +-1i )| |( 0 +0i )| \n",
      "|( 0 +0i )| |( 1 +0i )| |( 0 +-1i )| \n",
      "El resultado: \n",
      "Matriz compleja:\n",
      "|( 2 +0i )| |( 0 +-1i )| |( 0 +1i )| \n",
      "|( 0 +1i )| |( 2 +0i )| |( 0 +-1i )| \n",
      "|( 0 +-1i )| |( 0 +1i )| |( 2 +0i )| \n",
      "----------¿Es la matriz compleja una matriz hermitiana?-------\n",
      "El resultado: \n",
      "False\n"
     ]
    }
   ],
   "source": [
    "mat_uni([[(0,1),(1,0),(0,0)],[(0,0),(0,1),(1,0)],[(1,0),(0,0),(0,1)]])"
   ]
  },
  {
   "cell_type": "markdown",
   "metadata": {},
   "source": [
    "### 16. MATRIZ HERMITIANA"
   ]
  },
  {
   "cell_type": "code",
   "execution_count": null,
   "metadata": {},
   "outputs": [],
   "source": [
    "def mat_her(M):\n",
    "    daga = Matriz_adj(M)\n",
    "    \n",
    "    print(\"----------¿Es la matriz compleja una matriz hermitiana?-------\")\n",
    "    print(\"El resultado: \")\n",
    "    print(M == daga)"
   ]
  },
  {
   "cell_type": "code",
   "execution_count": null,
   "metadata": {},
   "outputs": [],
   "source": [
    "mat_her([[(3,0),(2,-1),(0,-3)],[(2,1),(0,0),(1,-1)],[(0,3),(1,1),(0,0)]])"
   ]
  },
  {
   "cell_type": "markdown",
   "metadata": {},
   "source": [
    "### Producto Tesorial entre matrices complejas"
   ]
  },
  {
   "cell_type": "code",
   "execution_count": null,
   "metadata": {},
   "outputs": [],
   "source": [
    "def prod_tensor(M1,M2):\n",
    "    fila1 = len(M1)\n",
    "    columna1 = len(M1[0])\n",
    "    fila2 = len(M2)\n",
    "    columna2 = len(M2[0])\n",
    "    Resul = []\n",
    "    for i in range(fila1):\n",
    "        for j in range(columna1):\n",
    "            Res1 = Mul_esc_matriz(M1[i][j],M2)\n",
    "            "
   ]
  }
 ],
 "metadata": {
  "kernelspec": {
   "display_name": "Python 3",
   "language": "python",
   "name": "python3"
  },
  "language_info": {
   "codemirror_mode": {
    "name": "ipython",
    "version": 3
   },
   "file_extension": ".py",
   "mimetype": "text/x-python",
   "name": "python",
   "nbconvert_exporter": "python",
   "pygments_lexer": "ipython3",
   "version": "3.7.3"
  }
 },
 "nbformat": 4,
 "nbformat_minor": 4
}
